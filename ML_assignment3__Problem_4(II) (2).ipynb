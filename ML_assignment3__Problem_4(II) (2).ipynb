{
  "nbformat": 4,
  "nbformat_minor": 0,
  "metadata": {
    "colab": {
      "name": "ML_assignment3_ Problem 4(II).ipynb",
      "provenance": []
    },
    "kernelspec": {
      "name": "python3",
      "display_name": "Python 3"
    },
    "language_info": {
      "name": "python"
    }
  },
  "cells": [
    {
      "cell_type": "markdown",
      "metadata": {
        "id": "p4sZ4cKqd5dK"
      },
      "source": [
        "# Importing the libraries"
      ]
    },
    {
      "cell_type": "code",
      "metadata": {
        "id": "5IAM-NLKY2Ut"
      },
      "source": [
        "import pandas as pd\n",
        "from sklearn.impute import SimpleImputer as Imputer"
      ],
      "execution_count": 42,
      "outputs": []
    },
    {
      "cell_type": "markdown",
      "metadata": {
        "id": "KUC6dKIvd-ja"
      },
      "source": [
        "# Loading the train and test datasets"
      ]
    },
    {
      "cell_type": "code",
      "metadata": {
        "colab": {
          "base_uri": "https://localhost:8080/",
          "height": 419
        },
        "id": "fsvGbhCbY-qh",
        "outputId": "4e2f9189-f61a-42b8-fecc-d81472bb6061"
      },
      "source": [
        "train_dataset = pd.read_csv('train.csv')\n",
        "train_dataset"
      ],
      "execution_count": 43,
      "outputs": [
        {
          "output_type": "execute_result",
          "data": {
            "text/html": [
              "<div>\n",
              "<style scoped>\n",
              "    .dataframe tbody tr th:only-of-type {\n",
              "        vertical-align: middle;\n",
              "    }\n",
              "\n",
              "    .dataframe tbody tr th {\n",
              "        vertical-align: top;\n",
              "    }\n",
              "\n",
              "    .dataframe thead th {\n",
              "        text-align: right;\n",
              "    }\n",
              "</style>\n",
              "<table border=\"1\" class=\"dataframe\">\n",
              "  <thead>\n",
              "    <tr style=\"text-align: right;\">\n",
              "      <th></th>\n",
              "      <th>x</th>\n",
              "      <th>y</th>\n",
              "      <th>z</th>\n",
              "      <th>class</th>\n",
              "    </tr>\n",
              "  </thead>\n",
              "  <tbody>\n",
              "    <tr>\n",
              "      <th>0</th>\n",
              "      <td>8.599291</td>\n",
              "      <td>9.729418</td>\n",
              "      <td>6.432371</td>\n",
              "      <td>1</td>\n",
              "    </tr>\n",
              "    <tr>\n",
              "      <th>1</th>\n",
              "      <td>6.592955</td>\n",
              "      <td>0.082556</td>\n",
              "      <td>1.969544</td>\n",
              "      <td>1</td>\n",
              "    </tr>\n",
              "    <tr>\n",
              "      <th>2</th>\n",
              "      <td>5.596471</td>\n",
              "      <td>9.815682</td>\n",
              "      <td>0.027295</td>\n",
              "      <td>1</td>\n",
              "    </tr>\n",
              "    <tr>\n",
              "      <th>3</th>\n",
              "      <td>2.743639</td>\n",
              "      <td>8.783177</td>\n",
              "      <td>4.041946</td>\n",
              "      <td>0</td>\n",
              "    </tr>\n",
              "    <tr>\n",
              "      <th>4</th>\n",
              "      <td>4.458362</td>\n",
              "      <td>5.750222</td>\n",
              "      <td>0.099070</td>\n",
              "      <td>0</td>\n",
              "    </tr>\n",
              "    <tr>\n",
              "      <th>...</th>\n",
              "      <td>...</td>\n",
              "      <td>...</td>\n",
              "      <td>...</td>\n",
              "      <td>...</td>\n",
              "    </tr>\n",
              "    <tr>\n",
              "      <th>995</th>\n",
              "      <td>4.617314</td>\n",
              "      <td>7.700236</td>\n",
              "      <td>5.907128</td>\n",
              "      <td>0</td>\n",
              "    </tr>\n",
              "    <tr>\n",
              "      <th>996</th>\n",
              "      <td>5.453472</td>\n",
              "      <td>1.798360</td>\n",
              "      <td>1.992616</td>\n",
              "      <td>0</td>\n",
              "    </tr>\n",
              "    <tr>\n",
              "      <th>997</th>\n",
              "      <td>2.553853</td>\n",
              "      <td>8.122934</td>\n",
              "      <td>3.970146</td>\n",
              "      <td>0</td>\n",
              "    </tr>\n",
              "    <tr>\n",
              "      <th>998</th>\n",
              "      <td>3.210456</td>\n",
              "      <td>3.342092</td>\n",
              "      <td>7.831479</td>\n",
              "      <td>0</td>\n",
              "    </tr>\n",
              "    <tr>\n",
              "      <th>999</th>\n",
              "      <td>6.930237</td>\n",
              "      <td>2.742352</td>\n",
              "      <td>4.678527</td>\n",
              "      <td>1</td>\n",
              "    </tr>\n",
              "  </tbody>\n",
              "</table>\n",
              "<p>1000 rows × 4 columns</p>\n",
              "</div>"
            ],
            "text/plain": [
              "            x         y         z  class\n",
              "0    8.599291  9.729418  6.432371      1\n",
              "1    6.592955  0.082556  1.969544      1\n",
              "2    5.596471  9.815682  0.027295      1\n",
              "3    2.743639  8.783177  4.041946      0\n",
              "4    4.458362  5.750222  0.099070      0\n",
              "..        ...       ...       ...    ...\n",
              "995  4.617314  7.700236  5.907128      0\n",
              "996  5.453472  1.798360  1.992616      0\n",
              "997  2.553853  8.122934  3.970146      0\n",
              "998  3.210456  3.342092  7.831479      0\n",
              "999  6.930237  2.742352  4.678527      1\n",
              "\n",
              "[1000 rows x 4 columns]"
            ]
          },
          "metadata": {},
          "execution_count": 43
        }
      ]
    },
    {
      "cell_type": "code",
      "metadata": {
        "colab": {
          "base_uri": "https://localhost:8080/",
          "height": 669
        },
        "id": "R80aPg4UZBP_",
        "outputId": "0a2f2d45-ccde-459d-a8c1-791378e55700"
      },
      "source": [
        "test_dataset = pd.read_csv('test.csv')\n",
        "test_dataset.drop('ID',inplace = True,axis = 1)\n",
        "test_dataset"
      ],
      "execution_count": 44,
      "outputs": [
        {
          "output_type": "execute_result",
          "data": {
            "text/html": [
              "<div>\n",
              "<style scoped>\n",
              "    .dataframe tbody tr th:only-of-type {\n",
              "        vertical-align: middle;\n",
              "    }\n",
              "\n",
              "    .dataframe tbody tr th {\n",
              "        vertical-align: top;\n",
              "    }\n",
              "\n",
              "    .dataframe thead th {\n",
              "        text-align: right;\n",
              "    }\n",
              "</style>\n",
              "<table border=\"1\" class=\"dataframe\">\n",
              "  <thead>\n",
              "    <tr style=\"text-align: right;\">\n",
              "      <th></th>\n",
              "      <th>x</th>\n",
              "      <th>y</th>\n",
              "      <th>z</th>\n",
              "      <th>actual-class</th>\n",
              "    </tr>\n",
              "  </thead>\n",
              "  <tbody>\n",
              "    <tr>\n",
              "      <th>0</th>\n",
              "      <td>8.074807</td>\n",
              "      <td>5.988044</td>\n",
              "      <td>3.844979</td>\n",
              "      <td>1</td>\n",
              "    </tr>\n",
              "    <tr>\n",
              "      <th>1</th>\n",
              "      <td>4.952249</td>\n",
              "      <td>5.823205</td>\n",
              "      <td>1.612045</td>\n",
              "      <td>0</td>\n",
              "    </tr>\n",
              "    <tr>\n",
              "      <th>2</th>\n",
              "      <td>4.773178</td>\n",
              "      <td>0.078757</td>\n",
              "      <td>4.209442</td>\n",
              "      <td>0</td>\n",
              "    </tr>\n",
              "    <tr>\n",
              "      <th>3</th>\n",
              "      <td>9.845919</td>\n",
              "      <td>2.055448</td>\n",
              "      <td>3.525702</td>\n",
              "      <td>1</td>\n",
              "    </tr>\n",
              "    <tr>\n",
              "      <th>4</th>\n",
              "      <td>1.612492</td>\n",
              "      <td>1.320515</td>\n",
              "      <td>8.200455</td>\n",
              "      <td>0</td>\n",
              "    </tr>\n",
              "    <tr>\n",
              "      <th>5</th>\n",
              "      <td>7.987555</td>\n",
              "      <td>9.188111</td>\n",
              "      <td>7.222228</td>\n",
              "      <td>1</td>\n",
              "    </tr>\n",
              "    <tr>\n",
              "      <th>6</th>\n",
              "      <td>0.311558</td>\n",
              "      <td>3.974680</td>\n",
              "      <td>7.897371</td>\n",
              "      <td>0</td>\n",
              "    </tr>\n",
              "    <tr>\n",
              "      <th>7</th>\n",
              "      <td>1.219113</td>\n",
              "      <td>0.266045</td>\n",
              "      <td>2.741136</td>\n",
              "      <td>0</td>\n",
              "    </tr>\n",
              "    <tr>\n",
              "      <th>8</th>\n",
              "      <td>0.636340</td>\n",
              "      <td>1.831257</td>\n",
              "      <td>6.767459</td>\n",
              "      <td>0</td>\n",
              "    </tr>\n",
              "    <tr>\n",
              "      <th>9</th>\n",
              "      <td>0.890168</td>\n",
              "      <td>8.613714</td>\n",
              "      <td>2.884227</td>\n",
              "      <td>0</td>\n",
              "    </tr>\n",
              "    <tr>\n",
              "      <th>10</th>\n",
              "      <td>7.226514</td>\n",
              "      <td>9.852794</td>\n",
              "      <td>7.373560</td>\n",
              "      <td>1</td>\n",
              "    </tr>\n",
              "    <tr>\n",
              "      <th>11</th>\n",
              "      <td>2.709551</td>\n",
              "      <td>3.719191</td>\n",
              "      <td>5.743540</td>\n",
              "      <td>0</td>\n",
              "    </tr>\n",
              "    <tr>\n",
              "      <th>12</th>\n",
              "      <td>2.842368</td>\n",
              "      <td>1.902145</td>\n",
              "      <td>2.216614</td>\n",
              "      <td>0</td>\n",
              "    </tr>\n",
              "    <tr>\n",
              "      <th>13</th>\n",
              "      <td>3.610773</td>\n",
              "      <td>4.589548</td>\n",
              "      <td>7.714008</td>\n",
              "      <td>0</td>\n",
              "    </tr>\n",
              "    <tr>\n",
              "      <th>14</th>\n",
              "      <td>4.888200</td>\n",
              "      <td>6.720637</td>\n",
              "      <td>7.261562</td>\n",
              "      <td>0</td>\n",
              "    </tr>\n",
              "    <tr>\n",
              "      <th>15</th>\n",
              "      <td>8.857224</td>\n",
              "      <td>9.056900</td>\n",
              "      <td>8.862604</td>\n",
              "      <td>1</td>\n",
              "    </tr>\n",
              "    <tr>\n",
              "      <th>16</th>\n",
              "      <td>8.239402</td>\n",
              "      <td>9.347802</td>\n",
              "      <td>5.277351</td>\n",
              "      <td>1</td>\n",
              "    </tr>\n",
              "    <tr>\n",
              "      <th>17</th>\n",
              "      <td>3.219759</td>\n",
              "      <td>2.980960</td>\n",
              "      <td>6.646886</td>\n",
              "      <td>0</td>\n",
              "    </tr>\n",
              "    <tr>\n",
              "      <th>18</th>\n",
              "      <td>2.146974</td>\n",
              "      <td>5.328725</td>\n",
              "      <td>5.801703</td>\n",
              "      <td>0</td>\n",
              "    </tr>\n",
              "    <tr>\n",
              "      <th>19</th>\n",
              "      <td>1.156302</td>\n",
              "      <td>8.542813</td>\n",
              "      <td>1.859447</td>\n",
              "      <td>0</td>\n",
              "    </tr>\n",
              "  </tbody>\n",
              "</table>\n",
              "</div>"
            ],
            "text/plain": [
              "           x         y         z  actual-class\n",
              "0   8.074807  5.988044  3.844979             1\n",
              "1   4.952249  5.823205  1.612045             0\n",
              "2   4.773178  0.078757  4.209442             0\n",
              "3   9.845919  2.055448  3.525702             1\n",
              "4   1.612492  1.320515  8.200455             0\n",
              "5   7.987555  9.188111  7.222228             1\n",
              "6   0.311558  3.974680  7.897371             0\n",
              "7   1.219113  0.266045  2.741136             0\n",
              "8   0.636340  1.831257  6.767459             0\n",
              "9   0.890168  8.613714  2.884227             0\n",
              "10  7.226514  9.852794  7.373560             1\n",
              "11  2.709551  3.719191  5.743540             0\n",
              "12  2.842368  1.902145  2.216614             0\n",
              "13  3.610773  4.589548  7.714008             0\n",
              "14  4.888200  6.720637  7.261562             0\n",
              "15  8.857224  9.056900  8.862604             1\n",
              "16  8.239402  9.347802  5.277351             1\n",
              "17  3.219759  2.980960  6.646886             0\n",
              "18  2.146974  5.328725  5.801703             0\n",
              "19  1.156302  8.542813  1.859447             0"
            ]
          },
          "metadata": {},
          "execution_count": 44
        }
      ]
    },
    {
      "cell_type": "markdown",
      "metadata": {
        "id": "J_NPfEM0eF7V"
      },
      "source": [
        "# Making the train and test split from the datasets"
      ]
    },
    {
      "cell_type": "code",
      "metadata": {
        "id": "wowuX1OwZE-e"
      },
      "source": [
        "X_train = train_dataset.iloc[:, 0:3].values\n",
        "y_train = train_dataset.iloc[:, 3].values\n"
      ],
      "execution_count": 45,
      "outputs": []
    },
    {
      "cell_type": "code",
      "metadata": {
        "id": "G9eDMFCcZVO8"
      },
      "source": [
        "X_test = test_dataset.iloc[:, 0:3].values\n",
        "y_test = test_dataset.iloc[:, 3].values\n"
      ],
      "execution_count": 46,
      "outputs": []
    },
    {
      "cell_type": "markdown",
      "metadata": {
        "id": "vXTr9i-KeMl9"
      },
      "source": [
        "# Implementing KNN using manhattan as the distance measure"
      ]
    },
    {
      "cell_type": "code",
      "metadata": {
        "colab": {
          "base_uri": "https://localhost:8080/"
        },
        "id": "JhBJJpjZatvr",
        "outputId": "8c2a0c7e-699b-4cb7-e789-ddb7d27e177d"
      },
      "source": [
        "from sklearn.neighbors import KNeighborsClassifier\n",
        "classifier_manhattan_distance = KNeighborsClassifier(n_neighbors=3,weights = 'distance',metric = 'manhattan')\n",
        "classifier_manhattan_distance.fit(X_train,y_train)"
      ],
      "execution_count": 47,
      "outputs": [
        {
          "output_type": "execute_result",
          "data": {
            "text/plain": [
              "KNeighborsClassifier(algorithm='auto', leaf_size=30, metric='manhattan',\n",
              "                     metric_params=None, n_jobs=None, n_neighbors=3, p=2,\n",
              "                     weights='distance')"
            ]
          },
          "metadata": {},
          "execution_count": 47
        }
      ]
    },
    {
      "cell_type": "markdown",
      "metadata": {
        "id": "o9aZ3g9UesYl"
      },
      "source": [
        "# Predicting the labels of the class using testing dataset"
      ]
    },
    {
      "cell_type": "code",
      "metadata": {
        "colab": {
          "base_uri": "https://localhost:8080/"
        },
        "id": "_tzLrVGZa3Ed",
        "outputId": "e76834e7-b45a-45e5-d3c9-6895e1c759ee"
      },
      "source": [
        "y_pred_manhattan_distance = classifier_manhattan_distance.predict(X_test)\n",
        "y_pred_manhattan_distance"
      ],
      "execution_count": 48,
      "outputs": [
        {
          "output_type": "execute_result",
          "data": {
            "text/plain": [
              "array([1, 0, 0, 1, 0, 1, 0, 0, 0, 0, 1, 0, 0, 0, 0, 1, 1, 0, 0, 0])"
            ]
          },
          "metadata": {},
          "execution_count": 48
        }
      ]
    },
    {
      "cell_type": "markdown",
      "metadata": {
        "id": "z-g5id33fAZn"
      },
      "source": [
        "# Constructing the confusion matrix and calculating acuracy, precision,recall and f1 score"
      ]
    },
    {
      "cell_type": "code",
      "metadata": {
        "colab": {
          "base_uri": "https://localhost:8080/"
        },
        "id": "pSc8XhgzzSDr",
        "outputId": "4f542849-a29d-45c4-fc8b-da9f8435426b"
      },
      "source": [
        "from sklearn import metrics\n",
        "print(\"Metrics for Manhattan Distance\\n\")\n",
        "print(\"Confusion Matrix :\\n\",metrics.confusion_matrix(y_test, y_pred_manhattan_distance),\"\\n\")\n",
        "print(\"Accuracy : \", (metrics.accuracy_score(y_test, y_pred_manhattan_distance)*100),\"%\\n\")\n",
        "print(\"Precision : \",(metrics.precision_score(y_test, y_pred_manhattan_distance)*100),\"%\\n\")\n",
        "print(\"F Score : \",(metrics.f1_score(y_test, y_pred_manhattan_distance)*100),\"%\\n\")\n",
        "print(\"recall : \", (metrics.recall_score(y_test, y_pred_euclidean)*100),\"%\\n\")"
      ],
      "execution_count": 56,
      "outputs": [
        {
          "output_type": "stream",
          "name": "stdout",
          "text": [
            "Metrics for Manhattan Distance\n",
            "\n",
            "Confusion Matrix :\n",
            " [[14  0]\n",
            " [ 0  6]] \n",
            "\n",
            "Accuracy :  100.0 %\n",
            "\n",
            "Precision :  100.0 %\n",
            "\n",
            "F Score :  100.0 %\n",
            "\n",
            "recall :  100.0 %\n",
            "\n"
          ]
        }
      ]
    },
    {
      "cell_type": "markdown",
      "metadata": {
        "id": "fxcUl6KKfL0A"
      },
      "source": [
        "# Probability estimates for the final decision"
      ]
    },
    {
      "cell_type": "code",
      "metadata": {
        "colab": {
          "base_uri": "https://localhost:8080/"
        },
        "id": "X8Nun6YVcV6X",
        "outputId": "5b02a74d-17a4-4129-f4d2-61818fb2c744"
      },
      "source": [
        "classifier_manhattan_distance.predict_proba(X_test)"
      ],
      "execution_count": 33,
      "outputs": [
        {
          "output_type": "execute_result",
          "data": {
            "text/plain": [
              "array([[0.        , 1.        ],\n",
              "       [0.57249171, 0.42750829],\n",
              "       [1.        , 0.        ],\n",
              "       [0.        , 1.        ],\n",
              "       [1.        , 0.        ],\n",
              "       [0.        , 1.        ],\n",
              "       [1.        , 0.        ],\n",
              "       [1.        , 0.        ],\n",
              "       [1.        , 0.        ],\n",
              "       [1.        , 0.        ],\n",
              "       [0.        , 1.        ],\n",
              "       [1.        , 0.        ],\n",
              "       [1.        , 0.        ],\n",
              "       [1.        , 0.        ],\n",
              "       [0.59791742, 0.40208258],\n",
              "       [0.        , 1.        ],\n",
              "       [0.        , 1.        ],\n",
              "       [1.        , 0.        ],\n",
              "       [1.        , 0.        ],\n",
              "       [1.        , 0.        ]])"
            ]
          },
          "metadata": {},
          "execution_count": 33
        }
      ]
    },
    {
      "cell_type": "markdown",
      "metadata": {
        "id": "8UsCQMVFfT_z"
      },
      "source": [
        "# Implementing KNN using euclidean as the distance measure"
      ]
    },
    {
      "cell_type": "code",
      "metadata": {
        "colab": {
          "base_uri": "https://localhost:8080/"
        },
        "id": "5dszzH_VZeNu",
        "outputId": "1c93cb75-ce1e-4dfa-f290-2903f770f02e"
      },
      "source": [
        "from sklearn.neighbors import KNeighborsClassifier\n",
        "classifier_euclidean_distance = KNeighborsClassifier(n_neighbors=3,weights = 'distance',metric = 'euclidean',p = '2')\n",
        "classifier_euclidean_distance.fit(X_train,y_train)"
      ],
      "execution_count": 34,
      "outputs": [
        {
          "output_type": "execute_result",
          "data": {
            "text/plain": [
              "KNeighborsClassifier(algorithm='auto', leaf_size=30, metric='euclidean',\n",
              "                     metric_params=None, n_jobs=None, n_neighbors=3, p='2',\n",
              "                     weights='distance')"
            ]
          },
          "metadata": {},
          "execution_count": 34
        }
      ]
    },
    {
      "cell_type": "markdown",
      "metadata": {
        "id": "EzMsYUA4fgsL"
      },
      "source": [
        "#Predicting the labels of the class using testing dataset"
      ]
    },
    {
      "cell_type": "code",
      "metadata": {
        "colab": {
          "base_uri": "https://localhost:8080/"
        },
        "id": "EySnxYzdaAxx",
        "outputId": "7f04d98b-a542-4de2-e4b6-a8c287fbeaa3"
      },
      "source": [
        "y_pred_euclidean = classifier_euclidean_distance.predict(X_test)\n",
        "y_pred_euclidean"
      ],
      "execution_count": 35,
      "outputs": [
        {
          "output_type": "execute_result",
          "data": {
            "text/plain": [
              "array([1, 0, 0, 1, 0, 1, 0, 0, 0, 0, 1, 0, 0, 0, 1, 1, 1, 0, 0, 0])"
            ]
          },
          "metadata": {},
          "execution_count": 35
        }
      ]
    },
    {
      "cell_type": "markdown",
      "metadata": {
        "id": "pBI-X5sqflua"
      },
      "source": [
        "#Constructing the confusion matrix and calculating acuracy, precision,recall and f1 score"
      ]
    },
    {
      "cell_type": "code",
      "metadata": {
        "colab": {
          "base_uri": "https://localhost:8080/"
        },
        "id": "MYJ7yaHSzUb6",
        "outputId": "a4b41e89-914a-4a03-c2c2-4f6832ec3dd9"
      },
      "source": [
        "from sklearn import metrics\n",
        "print(\"Metrics for Manhattan Distance\\n\")\n",
        "print(\"Confusion Matrix :\\n\",metrics.confusion_matrix(y_test, y_pred_euclidean),\"\\n\")\n",
        "print(\"Accuracy : \", (metrics.accuracy_score(y_test, y_pred_euclidean)*100),\"%\\n\")\n",
        "print(\"Precision : \", (metrics.precision_score(y_test, y_pred_euclidean)*100),\"%\\n\")\n",
        "print(\"F Score : \", (metrics.f1_score(y_test, y_pred_euclidean)*100),\"%\\n\")\n",
        "print(\"recall : \", (metrics.recall_score(y_test, y_pred_euclidean)*100),\"%\\n\")"
      ],
      "execution_count": 55,
      "outputs": [
        {
          "output_type": "stream",
          "name": "stdout",
          "text": [
            "Metrics for Manhattan Distance\n",
            "\n",
            "Confusion Matrix :\n",
            " [[13  1]\n",
            " [ 0  6]] \n",
            "\n",
            "Accuracy :  95.0 %\n",
            "\n",
            "Precision :  85.71428571428571 %\n",
            "\n",
            "F Score :  92.3076923076923 %\n",
            "\n",
            "recall :  100.0 %\n",
            "\n"
          ]
        }
      ]
    },
    {
      "cell_type": "markdown",
      "metadata": {
        "id": "tr_FGA7Cfqfj"
      },
      "source": [
        "#Probability estimates for the final decision"
      ]
    },
    {
      "cell_type": "code",
      "metadata": {
        "colab": {
          "base_uri": "https://localhost:8080/"
        },
        "id": "Tgc2bv-Zcj2k",
        "outputId": "6f46b610-d1f5-4120-8de4-bcdac701ad84"
      },
      "source": [
        "classifier_euclidean_distance.predict_proba(X_test)"
      ],
      "execution_count": 37,
      "outputs": [
        {
          "output_type": "execute_result",
          "data": {
            "text/plain": [
              "array([[0.        , 1.        ],\n",
              "       [0.67384254, 0.32615746],\n",
              "       [1.        , 0.        ],\n",
              "       [0.        , 1.        ],\n",
              "       [1.        , 0.        ],\n",
              "       [0.        , 1.        ],\n",
              "       [1.        , 0.        ],\n",
              "       [1.        , 0.        ],\n",
              "       [1.        , 0.        ],\n",
              "       [1.        , 0.        ],\n",
              "       [0.        , 1.        ],\n",
              "       [1.        , 0.        ],\n",
              "       [1.        , 0.        ],\n",
              "       [1.        , 0.        ],\n",
              "       [0.33961354, 0.66038646],\n",
              "       [0.        , 1.        ],\n",
              "       [0.        , 1.        ],\n",
              "       [1.        , 0.        ],\n",
              "       [1.        , 0.        ],\n",
              "       [1.        , 0.        ]])"
            ]
          },
          "metadata": {},
          "execution_count": 37
        }
      ]
    },
    {
      "cell_type": "markdown",
      "metadata": {
        "id": "bttc_fZddWLW"
      },
      "source": [
        "# On comparing the classification reports of manhattan and euclidean, we can conclude that when we use manhattan as the distance measure,we get better performance."
      ]
    }
  ]
}