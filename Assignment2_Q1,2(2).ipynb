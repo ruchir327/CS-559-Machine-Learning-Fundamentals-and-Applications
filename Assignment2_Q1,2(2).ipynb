{
  "nbformat": 4,
  "nbformat_minor": 0,
  "metadata": {
    "colab": {
      "name": "Assignment2_Q1,2(2).ipynb",
      "provenance": []
    },
    "kernelspec": {
      "name": "python3",
      "display_name": "Python 3"
    },
    "language_info": {
      "name": "python"
    }
  },
  "cells": [
    {
      "cell_type": "markdown",
      "metadata": {
        "id": "ekHybZ7qXQMl"
      },
      "source": [
        "# Question-1"
      ]
    },
    {
      "cell_type": "markdown",
      "metadata": {
        "id": "5G9pPcEDjjhk"
      },
      "source": [
        "# Importing libraries"
      ]
    },
    {
      "cell_type": "code",
      "metadata": {
        "id": "TK8GSh1uU10w"
      },
      "source": [
        "import numpy as np\n",
        "import pandas as pd\n",
        "from sklearn import model_selection\n",
        "from sklearn import preprocessing\n",
        "from sklearn.preprocessing import StandardScaler\n"
      ],
      "execution_count": 1,
      "outputs": []
    },
    {
      "cell_type": "markdown",
      "metadata": {
        "id": "9dq8mENsXU9V"
      },
      "source": [
        "# Importing the dataset"
      ]
    },
    {
      "cell_type": "code",
      "metadata": {
        "colab": {
          "base_uri": "https://localhost:8080/",
          "height": 424
        },
        "id": "mgJi-x-lU5tg",
        "outputId": "2bf94c80-82b8-4a73-a73f-20315ca4ebd1"
      },
      "source": [
        "names = ['sepal-length', 'sepal-width', 'petal-length', 'petal-width', 'Class']\n",
        "data = pd.read_csv(\"iris.data\",names = names)\n",
        "data"
      ],
      "execution_count": 3,
      "outputs": [
        {
          "output_type": "execute_result",
          "data": {
            "text/html": [
              "<div>\n",
              "<style scoped>\n",
              "    .dataframe tbody tr th:only-of-type {\n",
              "        vertical-align: middle;\n",
              "    }\n",
              "\n",
              "    .dataframe tbody tr th {\n",
              "        vertical-align: top;\n",
              "    }\n",
              "\n",
              "    .dataframe thead th {\n",
              "        text-align: right;\n",
              "    }\n",
              "</style>\n",
              "<table border=\"1\" class=\"dataframe\">\n",
              "  <thead>\n",
              "    <tr style=\"text-align: right;\">\n",
              "      <th></th>\n",
              "      <th>sepal-length</th>\n",
              "      <th>sepal-width</th>\n",
              "      <th>petal-length</th>\n",
              "      <th>petal-width</th>\n",
              "      <th>Class</th>\n",
              "    </tr>\n",
              "  </thead>\n",
              "  <tbody>\n",
              "    <tr>\n",
              "      <th>0</th>\n",
              "      <td>5.1</td>\n",
              "      <td>3.5</td>\n",
              "      <td>1.4</td>\n",
              "      <td>0.2</td>\n",
              "      <td>Iris-setosa</td>\n",
              "    </tr>\n",
              "    <tr>\n",
              "      <th>1</th>\n",
              "      <td>4.9</td>\n",
              "      <td>3.0</td>\n",
              "      <td>1.4</td>\n",
              "      <td>0.2</td>\n",
              "      <td>Iris-setosa</td>\n",
              "    </tr>\n",
              "    <tr>\n",
              "      <th>2</th>\n",
              "      <td>4.7</td>\n",
              "      <td>3.2</td>\n",
              "      <td>1.3</td>\n",
              "      <td>0.2</td>\n",
              "      <td>Iris-setosa</td>\n",
              "    </tr>\n",
              "    <tr>\n",
              "      <th>3</th>\n",
              "      <td>4.6</td>\n",
              "      <td>3.1</td>\n",
              "      <td>1.5</td>\n",
              "      <td>0.2</td>\n",
              "      <td>Iris-setosa</td>\n",
              "    </tr>\n",
              "    <tr>\n",
              "      <th>4</th>\n",
              "      <td>5.0</td>\n",
              "      <td>3.6</td>\n",
              "      <td>1.4</td>\n",
              "      <td>0.2</td>\n",
              "      <td>Iris-setosa</td>\n",
              "    </tr>\n",
              "    <tr>\n",
              "      <th>...</th>\n",
              "      <td>...</td>\n",
              "      <td>...</td>\n",
              "      <td>...</td>\n",
              "      <td>...</td>\n",
              "      <td>...</td>\n",
              "    </tr>\n",
              "    <tr>\n",
              "      <th>145</th>\n",
              "      <td>6.7</td>\n",
              "      <td>3.0</td>\n",
              "      <td>5.2</td>\n",
              "      <td>2.3</td>\n",
              "      <td>Iris-virginica</td>\n",
              "    </tr>\n",
              "    <tr>\n",
              "      <th>146</th>\n",
              "      <td>6.3</td>\n",
              "      <td>2.5</td>\n",
              "      <td>5.0</td>\n",
              "      <td>1.9</td>\n",
              "      <td>Iris-virginica</td>\n",
              "    </tr>\n",
              "    <tr>\n",
              "      <th>147</th>\n",
              "      <td>6.5</td>\n",
              "      <td>3.0</td>\n",
              "      <td>5.2</td>\n",
              "      <td>2.0</td>\n",
              "      <td>Iris-virginica</td>\n",
              "    </tr>\n",
              "    <tr>\n",
              "      <th>148</th>\n",
              "      <td>6.2</td>\n",
              "      <td>3.4</td>\n",
              "      <td>5.4</td>\n",
              "      <td>2.3</td>\n",
              "      <td>Iris-virginica</td>\n",
              "    </tr>\n",
              "    <tr>\n",
              "      <th>149</th>\n",
              "      <td>5.9</td>\n",
              "      <td>3.0</td>\n",
              "      <td>5.1</td>\n",
              "      <td>1.8</td>\n",
              "      <td>Iris-virginica</td>\n",
              "    </tr>\n",
              "  </tbody>\n",
              "</table>\n",
              "<p>150 rows × 5 columns</p>\n",
              "</div>"
            ],
            "text/plain": [
              "     sepal-length  sepal-width  petal-length  petal-width           Class\n",
              "0             5.1          3.5           1.4          0.2     Iris-setosa\n",
              "1             4.9          3.0           1.4          0.2     Iris-setosa\n",
              "2             4.7          3.2           1.3          0.2     Iris-setosa\n",
              "3             4.6          3.1           1.5          0.2     Iris-setosa\n",
              "4             5.0          3.6           1.4          0.2     Iris-setosa\n",
              "..            ...          ...           ...          ...             ...\n",
              "145           6.7          3.0           5.2          2.3  Iris-virginica\n",
              "146           6.3          2.5           5.0          1.9  Iris-virginica\n",
              "147           6.5          3.0           5.2          2.0  Iris-virginica\n",
              "148           6.2          3.4           5.4          2.3  Iris-virginica\n",
              "149           5.9          3.0           5.1          1.8  Iris-virginica\n",
              "\n",
              "[150 rows x 5 columns]"
            ]
          },
          "metadata": {},
          "execution_count": 3
        }
      ]
    },
    {
      "cell_type": "markdown",
      "metadata": {
        "id": "YAzns8emXYD_"
      },
      "source": [
        "# Splitting the dataset in class of setosa and versicolour"
      ]
    },
    {
      "cell_type": "code",
      "metadata": {
        "colab": {
          "base_uri": "https://localhost:8080/",
          "height": 424
        },
        "id": "ZrPxi0JzVD3n",
        "outputId": "115e6989-455c-4f9c-d3ee-f6891bce794e"
      },
      "source": [
        "dataset1 = data.loc[:99]\n",
        "dataset1\n"
      ],
      "execution_count": 4,
      "outputs": [
        {
          "output_type": "execute_result",
          "data": {
            "text/html": [
              "<div>\n",
              "<style scoped>\n",
              "    .dataframe tbody tr th:only-of-type {\n",
              "        vertical-align: middle;\n",
              "    }\n",
              "\n",
              "    .dataframe tbody tr th {\n",
              "        vertical-align: top;\n",
              "    }\n",
              "\n",
              "    .dataframe thead th {\n",
              "        text-align: right;\n",
              "    }\n",
              "</style>\n",
              "<table border=\"1\" class=\"dataframe\">\n",
              "  <thead>\n",
              "    <tr style=\"text-align: right;\">\n",
              "      <th></th>\n",
              "      <th>sepal-length</th>\n",
              "      <th>sepal-width</th>\n",
              "      <th>petal-length</th>\n",
              "      <th>petal-width</th>\n",
              "      <th>Class</th>\n",
              "    </tr>\n",
              "  </thead>\n",
              "  <tbody>\n",
              "    <tr>\n",
              "      <th>0</th>\n",
              "      <td>5.1</td>\n",
              "      <td>3.5</td>\n",
              "      <td>1.4</td>\n",
              "      <td>0.2</td>\n",
              "      <td>Iris-setosa</td>\n",
              "    </tr>\n",
              "    <tr>\n",
              "      <th>1</th>\n",
              "      <td>4.9</td>\n",
              "      <td>3.0</td>\n",
              "      <td>1.4</td>\n",
              "      <td>0.2</td>\n",
              "      <td>Iris-setosa</td>\n",
              "    </tr>\n",
              "    <tr>\n",
              "      <th>2</th>\n",
              "      <td>4.7</td>\n",
              "      <td>3.2</td>\n",
              "      <td>1.3</td>\n",
              "      <td>0.2</td>\n",
              "      <td>Iris-setosa</td>\n",
              "    </tr>\n",
              "    <tr>\n",
              "      <th>3</th>\n",
              "      <td>4.6</td>\n",
              "      <td>3.1</td>\n",
              "      <td>1.5</td>\n",
              "      <td>0.2</td>\n",
              "      <td>Iris-setosa</td>\n",
              "    </tr>\n",
              "    <tr>\n",
              "      <th>4</th>\n",
              "      <td>5.0</td>\n",
              "      <td>3.6</td>\n",
              "      <td>1.4</td>\n",
              "      <td>0.2</td>\n",
              "      <td>Iris-setosa</td>\n",
              "    </tr>\n",
              "    <tr>\n",
              "      <th>...</th>\n",
              "      <td>...</td>\n",
              "      <td>...</td>\n",
              "      <td>...</td>\n",
              "      <td>...</td>\n",
              "      <td>...</td>\n",
              "    </tr>\n",
              "    <tr>\n",
              "      <th>95</th>\n",
              "      <td>5.7</td>\n",
              "      <td>3.0</td>\n",
              "      <td>4.2</td>\n",
              "      <td>1.2</td>\n",
              "      <td>Iris-versicolor</td>\n",
              "    </tr>\n",
              "    <tr>\n",
              "      <th>96</th>\n",
              "      <td>5.7</td>\n",
              "      <td>2.9</td>\n",
              "      <td>4.2</td>\n",
              "      <td>1.3</td>\n",
              "      <td>Iris-versicolor</td>\n",
              "    </tr>\n",
              "    <tr>\n",
              "      <th>97</th>\n",
              "      <td>6.2</td>\n",
              "      <td>2.9</td>\n",
              "      <td>4.3</td>\n",
              "      <td>1.3</td>\n",
              "      <td>Iris-versicolor</td>\n",
              "    </tr>\n",
              "    <tr>\n",
              "      <th>98</th>\n",
              "      <td>5.1</td>\n",
              "      <td>2.5</td>\n",
              "      <td>3.0</td>\n",
              "      <td>1.1</td>\n",
              "      <td>Iris-versicolor</td>\n",
              "    </tr>\n",
              "    <tr>\n",
              "      <th>99</th>\n",
              "      <td>5.7</td>\n",
              "      <td>2.8</td>\n",
              "      <td>4.1</td>\n",
              "      <td>1.3</td>\n",
              "      <td>Iris-versicolor</td>\n",
              "    </tr>\n",
              "  </tbody>\n",
              "</table>\n",
              "<p>100 rows × 5 columns</p>\n",
              "</div>"
            ],
            "text/plain": [
              "    sepal-length  sepal-width  petal-length  petal-width            Class\n",
              "0            5.1          3.5           1.4          0.2      Iris-setosa\n",
              "1            4.9          3.0           1.4          0.2      Iris-setosa\n",
              "2            4.7          3.2           1.3          0.2      Iris-setosa\n",
              "3            4.6          3.1           1.5          0.2      Iris-setosa\n",
              "4            5.0          3.6           1.4          0.2      Iris-setosa\n",
              "..           ...          ...           ...          ...              ...\n",
              "95           5.7          3.0           4.2          1.2  Iris-versicolor\n",
              "96           5.7          2.9           4.2          1.3  Iris-versicolor\n",
              "97           6.2          2.9           4.3          1.3  Iris-versicolor\n",
              "98           5.1          2.5           3.0          1.1  Iris-versicolor\n",
              "99           5.7          2.8           4.1          1.3  Iris-versicolor\n",
              "\n",
              "[100 rows x 5 columns]"
            ]
          },
          "metadata": {},
          "execution_count": 4
        }
      ]
    },
    {
      "cell_type": "code",
      "metadata": {
        "id": "MAecwvRlVJb_"
      },
      "source": [
        "X = dataset1.iloc[:, 0:4].values\n",
        "y = dataset1.iloc[:, 4].values"
      ],
      "execution_count": 5,
      "outputs": []
    },
    {
      "cell_type": "markdown",
      "metadata": {
        "id": "oFjdNuVAXm7w"
      },
      "source": [
        "# Making the train,test split"
      ]
    },
    {
      "cell_type": "code",
      "metadata": {
        "id": "Z5Hu23QFVML_"
      },
      "source": [
        "from sklearn.model_selection import train_test_split\n",
        "\n",
        "X_train, X_test, y_train, y_test = train_test_split(X, y, test_size=0.2, random_state=0)"
      ],
      "execution_count": 6,
      "outputs": []
    },
    {
      "cell_type": "markdown",
      "metadata": {
        "id": "IamQon2iXrwM"
      },
      "source": [
        "# Implementing LDA for dataset1"
      ]
    },
    {
      "cell_type": "code",
      "metadata": {
        "id": "c8tRjmssVOmC"
      },
      "source": [
        "from sklearn.discriminant_analysis import LinearDiscriminantAnalysis as LDA\n",
        "\n",
        "lda = LDA(n_components=1)\n",
        "X_train = lda.fit_transform(X_train, y_train)\n",
        "X_test = lda.transform(X_test)"
      ],
      "execution_count": 7,
      "outputs": []
    },
    {
      "cell_type": "code",
      "metadata": {
        "id": "VIfPgfw_VRU0"
      },
      "source": [
        "from sklearn.ensemble import RandomForestClassifier\n",
        "\n",
        "classifier = RandomForestClassifier(max_depth=2, random_state=0)\n",
        "\n",
        "classifier.fit(X_train, y_train)\n",
        "y_pred = classifier.predict(X_test)"
      ],
      "execution_count": 8,
      "outputs": []
    },
    {
      "cell_type": "markdown",
      "metadata": {
        "id": "ZDDIOq9vXxfK"
      },
      "source": [
        "# Calculating Confusion matrix,Accuracy,Precision and Recall"
      ]
    },
    {
      "cell_type": "code",
      "metadata": {
        "colab": {
          "base_uri": "https://localhost:8080/"
        },
        "id": "5Te7TPLVVUCw",
        "outputId": "8dd8a275-4341-413e-af10-24e358b16b92"
      },
      "source": [
        "from sklearn.metrics import confusion_matrix\n",
        "from sklearn.metrics import accuracy_score\n",
        "\n",
        "cm = confusion_matrix(y_test, y_pred)\n",
        "print(cm)\n",
        "print('Accuracy' + str(accuracy_score(y_test, y_pred)))\n"
      ],
      "execution_count": 9,
      "outputs": [
        {
          "output_type": "stream",
          "name": "stdout",
          "text": [
            "[[10  0]\n",
            " [ 0 10]]\n",
            "Accuracy1.0\n"
          ]
        }
      ]
    },
    {
      "cell_type": "code",
      "metadata": {
        "colab": {
          "base_uri": "https://localhost:8080/"
        },
        "id": "t752APKBVZlR",
        "outputId": "6317d7bc-babf-4442-a2b2-a97159fabc06"
      },
      "source": [
        "#precision = TP/(TP + FP)\n",
        "Precision = (10/(10+0))*100\n",
        "Precision"
      ],
      "execution_count": 10,
      "outputs": [
        {
          "output_type": "execute_result",
          "data": {
            "text/plain": [
              "100.0"
            ]
          },
          "metadata": {},
          "execution_count": 10
        }
      ]
    },
    {
      "cell_type": "code",
      "metadata": {
        "colab": {
          "base_uri": "https://localhost:8080/"
        },
        "id": "iahINQtBVbRt",
        "outputId": "5eb370f6-5d84-458d-aa60-37e6d98144e8"
      },
      "source": [
        "#Recall = TP/(TP + FN)\n",
        "Recall = (10/(10+0))*100\n",
        "Recall"
      ],
      "execution_count": 11,
      "outputs": [
        {
          "output_type": "execute_result",
          "data": {
            "text/plain": [
              "100.0"
            ]
          },
          "metadata": {},
          "execution_count": 11
        }
      ]
    },
    {
      "cell_type": "markdown",
      "metadata": {
        "id": "vhAc8C0DX3mR"
      },
      "source": [
        "# Splitting the dataset in classes versicolor and virginica "
      ]
    },
    {
      "cell_type": "code",
      "metadata": {
        "colab": {
          "base_uri": "https://localhost:8080/",
          "height": 424
        },
        "id": "OjQS2SaIVdrG",
        "outputId": "8d9c39ac-06a8-4d54-bd21-dd421b2b7905"
      },
      "source": [
        "dataset2 = data.loc[50:150]\n",
        "dataset2\n"
      ],
      "execution_count": 12,
      "outputs": [
        {
          "output_type": "execute_result",
          "data": {
            "text/html": [
              "<div>\n",
              "<style scoped>\n",
              "    .dataframe tbody tr th:only-of-type {\n",
              "        vertical-align: middle;\n",
              "    }\n",
              "\n",
              "    .dataframe tbody tr th {\n",
              "        vertical-align: top;\n",
              "    }\n",
              "\n",
              "    .dataframe thead th {\n",
              "        text-align: right;\n",
              "    }\n",
              "</style>\n",
              "<table border=\"1\" class=\"dataframe\">\n",
              "  <thead>\n",
              "    <tr style=\"text-align: right;\">\n",
              "      <th></th>\n",
              "      <th>sepal-length</th>\n",
              "      <th>sepal-width</th>\n",
              "      <th>petal-length</th>\n",
              "      <th>petal-width</th>\n",
              "      <th>Class</th>\n",
              "    </tr>\n",
              "  </thead>\n",
              "  <tbody>\n",
              "    <tr>\n",
              "      <th>50</th>\n",
              "      <td>7.0</td>\n",
              "      <td>3.2</td>\n",
              "      <td>4.7</td>\n",
              "      <td>1.4</td>\n",
              "      <td>Iris-versicolor</td>\n",
              "    </tr>\n",
              "    <tr>\n",
              "      <th>51</th>\n",
              "      <td>6.4</td>\n",
              "      <td>3.2</td>\n",
              "      <td>4.5</td>\n",
              "      <td>1.5</td>\n",
              "      <td>Iris-versicolor</td>\n",
              "    </tr>\n",
              "    <tr>\n",
              "      <th>52</th>\n",
              "      <td>6.9</td>\n",
              "      <td>3.1</td>\n",
              "      <td>4.9</td>\n",
              "      <td>1.5</td>\n",
              "      <td>Iris-versicolor</td>\n",
              "    </tr>\n",
              "    <tr>\n",
              "      <th>53</th>\n",
              "      <td>5.5</td>\n",
              "      <td>2.3</td>\n",
              "      <td>4.0</td>\n",
              "      <td>1.3</td>\n",
              "      <td>Iris-versicolor</td>\n",
              "    </tr>\n",
              "    <tr>\n",
              "      <th>54</th>\n",
              "      <td>6.5</td>\n",
              "      <td>2.8</td>\n",
              "      <td>4.6</td>\n",
              "      <td>1.5</td>\n",
              "      <td>Iris-versicolor</td>\n",
              "    </tr>\n",
              "    <tr>\n",
              "      <th>...</th>\n",
              "      <td>...</td>\n",
              "      <td>...</td>\n",
              "      <td>...</td>\n",
              "      <td>...</td>\n",
              "      <td>...</td>\n",
              "    </tr>\n",
              "    <tr>\n",
              "      <th>145</th>\n",
              "      <td>6.7</td>\n",
              "      <td>3.0</td>\n",
              "      <td>5.2</td>\n",
              "      <td>2.3</td>\n",
              "      <td>Iris-virginica</td>\n",
              "    </tr>\n",
              "    <tr>\n",
              "      <th>146</th>\n",
              "      <td>6.3</td>\n",
              "      <td>2.5</td>\n",
              "      <td>5.0</td>\n",
              "      <td>1.9</td>\n",
              "      <td>Iris-virginica</td>\n",
              "    </tr>\n",
              "    <tr>\n",
              "      <th>147</th>\n",
              "      <td>6.5</td>\n",
              "      <td>3.0</td>\n",
              "      <td>5.2</td>\n",
              "      <td>2.0</td>\n",
              "      <td>Iris-virginica</td>\n",
              "    </tr>\n",
              "    <tr>\n",
              "      <th>148</th>\n",
              "      <td>6.2</td>\n",
              "      <td>3.4</td>\n",
              "      <td>5.4</td>\n",
              "      <td>2.3</td>\n",
              "      <td>Iris-virginica</td>\n",
              "    </tr>\n",
              "    <tr>\n",
              "      <th>149</th>\n",
              "      <td>5.9</td>\n",
              "      <td>3.0</td>\n",
              "      <td>5.1</td>\n",
              "      <td>1.8</td>\n",
              "      <td>Iris-virginica</td>\n",
              "    </tr>\n",
              "  </tbody>\n",
              "</table>\n",
              "<p>100 rows × 5 columns</p>\n",
              "</div>"
            ],
            "text/plain": [
              "     sepal-length  sepal-width  petal-length  petal-width            Class\n",
              "50            7.0          3.2           4.7          1.4  Iris-versicolor\n",
              "51            6.4          3.2           4.5          1.5  Iris-versicolor\n",
              "52            6.9          3.1           4.9          1.5  Iris-versicolor\n",
              "53            5.5          2.3           4.0          1.3  Iris-versicolor\n",
              "54            6.5          2.8           4.6          1.5  Iris-versicolor\n",
              "..            ...          ...           ...          ...              ...\n",
              "145           6.7          3.0           5.2          2.3   Iris-virginica\n",
              "146           6.3          2.5           5.0          1.9   Iris-virginica\n",
              "147           6.5          3.0           5.2          2.0   Iris-virginica\n",
              "148           6.2          3.4           5.4          2.3   Iris-virginica\n",
              "149           5.9          3.0           5.1          1.8   Iris-virginica\n",
              "\n",
              "[100 rows x 5 columns]"
            ]
          },
          "metadata": {},
          "execution_count": 12
        }
      ]
    },
    {
      "cell_type": "code",
      "metadata": {
        "id": "md_ab1IgVhae"
      },
      "source": [
        "X = dataset2.iloc[:, 0:4].values\n",
        "y = dataset2.iloc[:, 4].values\n"
      ],
      "execution_count": 31,
      "outputs": []
    },
    {
      "cell_type": "markdown",
      "metadata": {
        "id": "VkpEKWuQYDnl"
      },
      "source": [
        "# Making Train,Test split"
      ]
    },
    {
      "cell_type": "code",
      "metadata": {
        "id": "G6N85GjGVj97"
      },
      "source": [
        "from sklearn.model_selection import train_test_split\n",
        "\n",
        "X_train, X_test, y_train, y_test = train_test_split(X, y, test_size=0.2, random_state=0)"
      ],
      "execution_count": 32,
      "outputs": []
    },
    {
      "cell_type": "markdown",
      "metadata": {
        "id": "Kfw3BEVgYHFs"
      },
      "source": [
        "# Implementing LDA for dataset2\n"
      ]
    },
    {
      "cell_type": "code",
      "metadata": {
        "id": "yBJ8IzSIVmYr"
      },
      "source": [
        "from sklearn.discriminant_analysis import LinearDiscriminantAnalysis as LDA\n",
        "\n",
        "lda = LDA(n_components=1)\n",
        "X_train = lda.fit_transform(X_train, y_train)\n",
        "X_test = lda.transform(X_test)"
      ],
      "execution_count": 33,
      "outputs": []
    },
    {
      "cell_type": "code",
      "metadata": {
        "id": "dKKoKErZWFzp"
      },
      "source": [
        "from sklearn.ensemble import RandomForestClassifier\n",
        "\n",
        "classifier = RandomForestClassifier(max_depth=2, random_state=0)\n",
        "\n",
        "classifier.fit(X_train, y_train)\n",
        "y_pred = classifier.predict(X_test)"
      ],
      "execution_count": 34,
      "outputs": []
    },
    {
      "cell_type": "markdown",
      "metadata": {
        "id": "Pk-jEms-YJ9F"
      },
      "source": [
        "# Calculating Confusion matrix,Accuracy,Precision and Recall"
      ]
    },
    {
      "cell_type": "code",
      "metadata": {
        "colab": {
          "base_uri": "https://localhost:8080/"
        },
        "id": "eT6CQN_-V_Rq",
        "outputId": "5cbfbf6f-f029-409d-cc3e-2cf655558dce"
      },
      "source": [
        "from sklearn.metrics import confusion_matrix\n",
        "from sklearn.metrics import accuracy_score\n",
        "\n",
        "cm = confusion_matrix(y_test, y_pred)\n",
        "print(cm)\n",
        "print('Accuracy' + str(accuracy_score(y_test, y_pred)))"
      ],
      "execution_count": 35,
      "outputs": [
        {
          "output_type": "stream",
          "name": "stdout",
          "text": [
            "[[ 9  1]\n",
            " [ 0 10]]\n",
            "Accuracy0.95\n"
          ]
        }
      ]
    },
    {
      "cell_type": "code",
      "metadata": {
        "colab": {
          "base_uri": "https://localhost:8080/"
        },
        "id": "C7IKfEOhWpBs",
        "outputId": "8c74d2f8-9022-4a81-fa71-014c55939f45"
      },
      "source": [
        "#precision = TP/(TP + FP)\n",
        "Precision = (9/(9+0))*100\n",
        "Precision"
      ],
      "execution_count": 36,
      "outputs": [
        {
          "output_type": "execute_result",
          "data": {
            "text/plain": [
              "100.0"
            ]
          },
          "metadata": {},
          "execution_count": 36
        }
      ]
    },
    {
      "cell_type": "code",
      "metadata": {
        "colab": {
          "base_uri": "https://localhost:8080/"
        },
        "id": "wA4zulJBWp9a",
        "outputId": "8f50d9ab-743b-4b14-dfeb-2d7da068dcd6"
      },
      "source": [
        "#Recall = TP/(TP + FN)\n",
        "Recall = (9/(9+1))*100\n",
        "Recall"
      ],
      "execution_count": 37,
      "outputs": [
        {
          "output_type": "execute_result",
          "data": {
            "text/plain": [
              "90.0"
            ]
          },
          "metadata": {},
          "execution_count": 37
        }
      ]
    },
    {
      "cell_type": "markdown",
      "metadata": {
        "id": "KH1D2AJzYTov"
      },
      "source": [
        "# Splitting the dataset in classes setosa and virginica "
      ]
    },
    {
      "cell_type": "code",
      "metadata": {
        "colab": {
          "base_uri": "https://localhost:8080/",
          "height": 424
        },
        "id": "kp5AXcMDWt3i",
        "outputId": "bc989cfd-78dc-468e-fd31-2df28bf715a9"
      },
      "source": [
        "dataset3 = data.loc[:49].append(data.loc[100:150])\n",
        "dataset3"
      ],
      "execution_count": 38,
      "outputs": [
        {
          "output_type": "execute_result",
          "data": {
            "text/html": [
              "<div>\n",
              "<style scoped>\n",
              "    .dataframe tbody tr th:only-of-type {\n",
              "        vertical-align: middle;\n",
              "    }\n",
              "\n",
              "    .dataframe tbody tr th {\n",
              "        vertical-align: top;\n",
              "    }\n",
              "\n",
              "    .dataframe thead th {\n",
              "        text-align: right;\n",
              "    }\n",
              "</style>\n",
              "<table border=\"1\" class=\"dataframe\">\n",
              "  <thead>\n",
              "    <tr style=\"text-align: right;\">\n",
              "      <th></th>\n",
              "      <th>sepal-length</th>\n",
              "      <th>sepal-width</th>\n",
              "      <th>petal-length</th>\n",
              "      <th>petal-width</th>\n",
              "      <th>Class</th>\n",
              "    </tr>\n",
              "  </thead>\n",
              "  <tbody>\n",
              "    <tr>\n",
              "      <th>0</th>\n",
              "      <td>5.1</td>\n",
              "      <td>3.5</td>\n",
              "      <td>1.4</td>\n",
              "      <td>0.2</td>\n",
              "      <td>Iris-setosa</td>\n",
              "    </tr>\n",
              "    <tr>\n",
              "      <th>1</th>\n",
              "      <td>4.9</td>\n",
              "      <td>3.0</td>\n",
              "      <td>1.4</td>\n",
              "      <td>0.2</td>\n",
              "      <td>Iris-setosa</td>\n",
              "    </tr>\n",
              "    <tr>\n",
              "      <th>2</th>\n",
              "      <td>4.7</td>\n",
              "      <td>3.2</td>\n",
              "      <td>1.3</td>\n",
              "      <td>0.2</td>\n",
              "      <td>Iris-setosa</td>\n",
              "    </tr>\n",
              "    <tr>\n",
              "      <th>3</th>\n",
              "      <td>4.6</td>\n",
              "      <td>3.1</td>\n",
              "      <td>1.5</td>\n",
              "      <td>0.2</td>\n",
              "      <td>Iris-setosa</td>\n",
              "    </tr>\n",
              "    <tr>\n",
              "      <th>4</th>\n",
              "      <td>5.0</td>\n",
              "      <td>3.6</td>\n",
              "      <td>1.4</td>\n",
              "      <td>0.2</td>\n",
              "      <td>Iris-setosa</td>\n",
              "    </tr>\n",
              "    <tr>\n",
              "      <th>...</th>\n",
              "      <td>...</td>\n",
              "      <td>...</td>\n",
              "      <td>...</td>\n",
              "      <td>...</td>\n",
              "      <td>...</td>\n",
              "    </tr>\n",
              "    <tr>\n",
              "      <th>145</th>\n",
              "      <td>6.7</td>\n",
              "      <td>3.0</td>\n",
              "      <td>5.2</td>\n",
              "      <td>2.3</td>\n",
              "      <td>Iris-virginica</td>\n",
              "    </tr>\n",
              "    <tr>\n",
              "      <th>146</th>\n",
              "      <td>6.3</td>\n",
              "      <td>2.5</td>\n",
              "      <td>5.0</td>\n",
              "      <td>1.9</td>\n",
              "      <td>Iris-virginica</td>\n",
              "    </tr>\n",
              "    <tr>\n",
              "      <th>147</th>\n",
              "      <td>6.5</td>\n",
              "      <td>3.0</td>\n",
              "      <td>5.2</td>\n",
              "      <td>2.0</td>\n",
              "      <td>Iris-virginica</td>\n",
              "    </tr>\n",
              "    <tr>\n",
              "      <th>148</th>\n",
              "      <td>6.2</td>\n",
              "      <td>3.4</td>\n",
              "      <td>5.4</td>\n",
              "      <td>2.3</td>\n",
              "      <td>Iris-virginica</td>\n",
              "    </tr>\n",
              "    <tr>\n",
              "      <th>149</th>\n",
              "      <td>5.9</td>\n",
              "      <td>3.0</td>\n",
              "      <td>5.1</td>\n",
              "      <td>1.8</td>\n",
              "      <td>Iris-virginica</td>\n",
              "    </tr>\n",
              "  </tbody>\n",
              "</table>\n",
              "<p>100 rows × 5 columns</p>\n",
              "</div>"
            ],
            "text/plain": [
              "     sepal-length  sepal-width  petal-length  petal-width           Class\n",
              "0             5.1          3.5           1.4          0.2     Iris-setosa\n",
              "1             4.9          3.0           1.4          0.2     Iris-setosa\n",
              "2             4.7          3.2           1.3          0.2     Iris-setosa\n",
              "3             4.6          3.1           1.5          0.2     Iris-setosa\n",
              "4             5.0          3.6           1.4          0.2     Iris-setosa\n",
              "..            ...          ...           ...          ...             ...\n",
              "145           6.7          3.0           5.2          2.3  Iris-virginica\n",
              "146           6.3          2.5           5.0          1.9  Iris-virginica\n",
              "147           6.5          3.0           5.2          2.0  Iris-virginica\n",
              "148           6.2          3.4           5.4          2.3  Iris-virginica\n",
              "149           5.9          3.0           5.1          1.8  Iris-virginica\n",
              "\n",
              "[100 rows x 5 columns]"
            ]
          },
          "metadata": {},
          "execution_count": 38
        }
      ]
    },
    {
      "cell_type": "code",
      "metadata": {
        "id": "X9BgvrXYWvOb"
      },
      "source": [
        "X = dataset3.iloc[:, 0:4].values\n",
        "y = dataset3.iloc[:, 4].values"
      ],
      "execution_count": 39,
      "outputs": []
    },
    {
      "cell_type": "markdown",
      "metadata": {
        "id": "0irU3P_HYhXN"
      },
      "source": [
        "# Makng Train,Test split for dataset 3"
      ]
    },
    {
      "cell_type": "code",
      "metadata": {
        "id": "kZ262YhmWzQA"
      },
      "source": [
        "from sklearn.model_selection import train_test_split\n",
        "\n",
        "X_train, X_test, y_train, y_test = train_test_split(X, y, test_size=0.2, random_state=0)"
      ],
      "execution_count": 40,
      "outputs": []
    },
    {
      "cell_type": "markdown",
      "metadata": {
        "id": "cT8i54SbYlnI"
      },
      "source": [
        "# Implementing LDA"
      ]
    },
    {
      "cell_type": "code",
      "metadata": {
        "id": "ezZSwZ0LW0Sz"
      },
      "source": [
        "from sklearn.discriminant_analysis import LinearDiscriminantAnalysis as LDA\n",
        "\n",
        "lda = LDA(n_components=1)\n",
        "X_train = lda.fit_transform(X_train, y_train)\n",
        "X_test = lda.transform(X_test)"
      ],
      "execution_count": 41,
      "outputs": []
    },
    {
      "cell_type": "code",
      "metadata": {
        "id": "UYPXTfO-W2la"
      },
      "source": [
        "from sklearn.ensemble import RandomForestClassifier\n",
        "\n",
        "classifier = RandomForestClassifier(max_depth=2, random_state=0)\n",
        "\n",
        "classifier.fit(X_train, y_train)\n",
        "y_pred = classifier.predict(X_test)"
      ],
      "execution_count": 42,
      "outputs": []
    },
    {
      "cell_type": "markdown",
      "metadata": {
        "id": "Xhk-PglnYrcs"
      },
      "source": [
        "# Calculating Confusion matrix,Accuracy,Precision and Recall"
      ]
    },
    {
      "cell_type": "code",
      "metadata": {
        "colab": {
          "base_uri": "https://localhost:8080/"
        },
        "id": "u8VCKoJyW5Om",
        "outputId": "707b5d74-a465-466c-9959-88fa4747dd4a"
      },
      "source": [
        "from sklearn.metrics import confusion_matrix\n",
        "from sklearn.metrics import accuracy_score\n",
        "\n",
        "cm = confusion_matrix(y_test, y_pred)\n",
        "print(cm)\n",
        "print('Accuracy' + str(accuracy_score(y_test, y_pred)))\n"
      ],
      "execution_count": 43,
      "outputs": [
        {
          "output_type": "stream",
          "name": "stdout",
          "text": [
            "[[10  0]\n",
            " [ 0 10]]\n",
            "Accuracy1.0\n"
          ]
        }
      ]
    },
    {
      "cell_type": "code",
      "metadata": {
        "colab": {
          "base_uri": "https://localhost:8080/"
        },
        "id": "uwUt7BlPXEos",
        "outputId": "3c88f6f4-bd03-451b-afa6-3fb766c1d8e1"
      },
      "source": [
        "#precision = TP/(TP + FP)\n",
        "Precision = (10/(10+0))*100\n",
        "Precision"
      ],
      "execution_count": 44,
      "outputs": [
        {
          "output_type": "execute_result",
          "data": {
            "text/plain": [
              "100.0"
            ]
          },
          "metadata": {},
          "execution_count": 44
        }
      ]
    },
    {
      "cell_type": "code",
      "metadata": {
        "colab": {
          "base_uri": "https://localhost:8080/"
        },
        "id": "k811DP2rXF4M",
        "outputId": "d9f2cadb-87fe-4e5c-b9e4-3c0515e77ff1"
      },
      "source": [
        "#Recall = TP/(TP + FN)\n",
        "Recall = (10/(10+0))*100\n",
        "Recall"
      ],
      "execution_count": 45,
      "outputs": [
        {
          "output_type": "execute_result",
          "data": {
            "text/plain": [
              "100.0"
            ]
          },
          "metadata": {},
          "execution_count": 45
        }
      ]
    },
    {
      "cell_type": "markdown",
      "metadata": {
        "id": "RfjujjQaXLQC"
      },
      "source": [
        "# Question-2(2)"
      ]
    },
    {
      "cell_type": "markdown",
      "metadata": {
        "id": "AMlvp8EXYuLU"
      },
      "source": [
        "# Importing Libraries"
      ]
    },
    {
      "cell_type": "code",
      "metadata": {
        "id": "Ct2yqNNwcNYZ"
      },
      "source": [
        "import numpy as np\n",
        "import pandas as pd\n",
        "from sklearn import model_selection\n",
        "from sklearn import preprocessing\n",
        "from sklearn.preprocessing import StandardScaler\n",
        "from sklearn.model_selection import train_test_split\n",
        "from sklearn.metrics import recall_score, precision_score, accuracy_score\n",
        "\n"
      ],
      "execution_count": 49,
      "outputs": []
    },
    {
      "cell_type": "code",
      "metadata": {
        "colab": {
          "base_uri": "https://localhost:8080/"
        },
        "id": "Ygj4QDZwcP5b",
        "outputId": "5ab695a2-b362-4e02-e5da-5e0f6727ed3b"
      },
      "source": [
        "from google.colab import drive\n",
        "drive.mount('/content/drive')"
      ],
      "execution_count": null,
      "outputs": [
        {
          "output_type": "stream",
          "name": "stdout",
          "text": [
            "Mounted at /content/drive\n"
          ]
        }
      ]
    },
    {
      "cell_type": "markdown",
      "metadata": {
        "id": "o_ZZ3o6jjoXJ"
      },
      "source": [
        "# Importing the dataset"
      ]
    },
    {
      "cell_type": "code",
      "metadata": {
        "colab": {
          "base_uri": "https://localhost:8080/",
          "height": 479
        },
        "id": "RxDFVJ9HccXl",
        "outputId": "474adfbc-e056-469c-b9d2-631a161ba9bd"
      },
      "source": [
        "names = ['ID','Clump thickness', 'Uniformity of cell size', 'Uniformity of cell shape', 'Marginal adhesion', 'Single epithelial cell size', 'Bare nuclei', 'Bland chromatin', 'Normal nuclei', 'Mitoses', 'Diagnose']\n",
        "dataset = pd.read_csv('cancer.data', names = names)\n",
        "dataset"
      ],
      "execution_count": 52,
      "outputs": [
        {
          "output_type": "execute_result",
          "data": {
            "text/html": [
              "<div>\n",
              "<style scoped>\n",
              "    .dataframe tbody tr th:only-of-type {\n",
              "        vertical-align: middle;\n",
              "    }\n",
              "\n",
              "    .dataframe tbody tr th {\n",
              "        vertical-align: top;\n",
              "    }\n",
              "\n",
              "    .dataframe thead th {\n",
              "        text-align: right;\n",
              "    }\n",
              "</style>\n",
              "<table border=\"1\" class=\"dataframe\">\n",
              "  <thead>\n",
              "    <tr style=\"text-align: right;\">\n",
              "      <th></th>\n",
              "      <th>ID</th>\n",
              "      <th>Clump thickness</th>\n",
              "      <th>Uniformity of cell size</th>\n",
              "      <th>Uniformity of cell shape</th>\n",
              "      <th>Marginal adhesion</th>\n",
              "      <th>Single epithelial cell size</th>\n",
              "      <th>Bare nuclei</th>\n",
              "      <th>Bland chromatin</th>\n",
              "      <th>Normal nuclei</th>\n",
              "      <th>Mitoses</th>\n",
              "      <th>Diagnose</th>\n",
              "    </tr>\n",
              "  </thead>\n",
              "  <tbody>\n",
              "    <tr>\n",
              "      <th>0</th>\n",
              "      <td>1000025</td>\n",
              "      <td>5</td>\n",
              "      <td>1</td>\n",
              "      <td>1</td>\n",
              "      <td>1</td>\n",
              "      <td>2</td>\n",
              "      <td>1</td>\n",
              "      <td>3</td>\n",
              "      <td>1</td>\n",
              "      <td>1</td>\n",
              "      <td>2</td>\n",
              "    </tr>\n",
              "    <tr>\n",
              "      <th>1</th>\n",
              "      <td>1002945</td>\n",
              "      <td>5</td>\n",
              "      <td>4</td>\n",
              "      <td>4</td>\n",
              "      <td>5</td>\n",
              "      <td>7</td>\n",
              "      <td>10</td>\n",
              "      <td>3</td>\n",
              "      <td>2</td>\n",
              "      <td>1</td>\n",
              "      <td>2</td>\n",
              "    </tr>\n",
              "    <tr>\n",
              "      <th>2</th>\n",
              "      <td>1015425</td>\n",
              "      <td>3</td>\n",
              "      <td>1</td>\n",
              "      <td>1</td>\n",
              "      <td>1</td>\n",
              "      <td>2</td>\n",
              "      <td>2</td>\n",
              "      <td>3</td>\n",
              "      <td>1</td>\n",
              "      <td>1</td>\n",
              "      <td>2</td>\n",
              "    </tr>\n",
              "    <tr>\n",
              "      <th>3</th>\n",
              "      <td>1016277</td>\n",
              "      <td>6</td>\n",
              "      <td>8</td>\n",
              "      <td>8</td>\n",
              "      <td>1</td>\n",
              "      <td>3</td>\n",
              "      <td>4</td>\n",
              "      <td>3</td>\n",
              "      <td>7</td>\n",
              "      <td>1</td>\n",
              "      <td>2</td>\n",
              "    </tr>\n",
              "    <tr>\n",
              "      <th>4</th>\n",
              "      <td>1017023</td>\n",
              "      <td>4</td>\n",
              "      <td>1</td>\n",
              "      <td>1</td>\n",
              "      <td>3</td>\n",
              "      <td>2</td>\n",
              "      <td>1</td>\n",
              "      <td>3</td>\n",
              "      <td>1</td>\n",
              "      <td>1</td>\n",
              "      <td>2</td>\n",
              "    </tr>\n",
              "    <tr>\n",
              "      <th>...</th>\n",
              "      <td>...</td>\n",
              "      <td>...</td>\n",
              "      <td>...</td>\n",
              "      <td>...</td>\n",
              "      <td>...</td>\n",
              "      <td>...</td>\n",
              "      <td>...</td>\n",
              "      <td>...</td>\n",
              "      <td>...</td>\n",
              "      <td>...</td>\n",
              "      <td>...</td>\n",
              "    </tr>\n",
              "    <tr>\n",
              "      <th>694</th>\n",
              "      <td>776715</td>\n",
              "      <td>3</td>\n",
              "      <td>1</td>\n",
              "      <td>1</td>\n",
              "      <td>1</td>\n",
              "      <td>3</td>\n",
              "      <td>2</td>\n",
              "      <td>1</td>\n",
              "      <td>1</td>\n",
              "      <td>1</td>\n",
              "      <td>2</td>\n",
              "    </tr>\n",
              "    <tr>\n",
              "      <th>695</th>\n",
              "      <td>841769</td>\n",
              "      <td>2</td>\n",
              "      <td>1</td>\n",
              "      <td>1</td>\n",
              "      <td>1</td>\n",
              "      <td>2</td>\n",
              "      <td>1</td>\n",
              "      <td>1</td>\n",
              "      <td>1</td>\n",
              "      <td>1</td>\n",
              "      <td>2</td>\n",
              "    </tr>\n",
              "    <tr>\n",
              "      <th>696</th>\n",
              "      <td>888820</td>\n",
              "      <td>5</td>\n",
              "      <td>10</td>\n",
              "      <td>10</td>\n",
              "      <td>3</td>\n",
              "      <td>7</td>\n",
              "      <td>3</td>\n",
              "      <td>8</td>\n",
              "      <td>10</td>\n",
              "      <td>2</td>\n",
              "      <td>4</td>\n",
              "    </tr>\n",
              "    <tr>\n",
              "      <th>697</th>\n",
              "      <td>897471</td>\n",
              "      <td>4</td>\n",
              "      <td>8</td>\n",
              "      <td>6</td>\n",
              "      <td>4</td>\n",
              "      <td>3</td>\n",
              "      <td>4</td>\n",
              "      <td>10</td>\n",
              "      <td>6</td>\n",
              "      <td>1</td>\n",
              "      <td>4</td>\n",
              "    </tr>\n",
              "    <tr>\n",
              "      <th>698</th>\n",
              "      <td>897471</td>\n",
              "      <td>4</td>\n",
              "      <td>8</td>\n",
              "      <td>8</td>\n",
              "      <td>5</td>\n",
              "      <td>4</td>\n",
              "      <td>5</td>\n",
              "      <td>10</td>\n",
              "      <td>4</td>\n",
              "      <td>1</td>\n",
              "      <td>4</td>\n",
              "    </tr>\n",
              "  </tbody>\n",
              "</table>\n",
              "<p>699 rows × 11 columns</p>\n",
              "</div>"
            ],
            "text/plain": [
              "          ID  Clump thickness  ...  Mitoses  Diagnose\n",
              "0    1000025                5  ...        1         2\n",
              "1    1002945                5  ...        1         2\n",
              "2    1015425                3  ...        1         2\n",
              "3    1016277                6  ...        1         2\n",
              "4    1017023                4  ...        1         2\n",
              "..       ...              ...  ...      ...       ...\n",
              "694   776715                3  ...        1         2\n",
              "695   841769                2  ...        1         2\n",
              "696   888820                5  ...        2         4\n",
              "697   897471                4  ...        1         4\n",
              "698   897471                4  ...        1         4\n",
              "\n",
              "[699 rows x 11 columns]"
            ]
          },
          "metadata": {},
          "execution_count": 52
        }
      ]
    },
    {
      "cell_type": "code",
      "metadata": {
        "colab": {
          "base_uri": "https://localhost:8080/"
        },
        "id": "XPkaAJvQcynX",
        "outputId": "4d999311-8df2-4bee-9b86-6fcc494387e9"
      },
      "source": [
        "for i in range(699):\n",
        "    if dataset['Bare nuclei'].iloc[i]=='?':\n",
        "        dataset['Bare nuclei'].iloc[i]=np.nan"
      ],
      "execution_count": 53,
      "outputs": [
        {
          "output_type": "stream",
          "name": "stderr",
          "text": [
            "/usr/local/lib/python3.7/dist-packages/pandas/core/indexing.py:670: SettingWithCopyWarning: \n",
            "A value is trying to be set on a copy of a slice from a DataFrame\n",
            "\n",
            "See the caveats in the documentation: https://pandas.pydata.org/pandas-docs/stable/user_guide/indexing.html#returning-a-view-versus-a-copy\n",
            "  iloc._setitem_with_indexer(indexer, value)\n"
          ]
        }
      ]
    },
    {
      "cell_type": "markdown",
      "metadata": {
        "id": "LTrdVW7AjwrI"
      },
      "source": [
        "# Converting the column of Bare nuclei in float"
      ]
    },
    {
      "cell_type": "code",
      "metadata": {
        "id": "Fd4_oSqRc3FB"
      },
      "source": [
        "dataset['Bare nuclei'] = dataset['Bare nuclei'].astype('float')"
      ],
      "execution_count": 54,
      "outputs": []
    },
    {
      "cell_type": "code",
      "metadata": {
        "id": "0YIqVv_Vc6Bt"
      },
      "source": [
        "dataset.replace(np.nan, round(dataset['Bare nuclei'].mean()), inplace=True)"
      ],
      "execution_count": 55,
      "outputs": []
    },
    {
      "cell_type": "markdown",
      "metadata": {
        "id": "dI-7Fl7ij3Sl"
      },
      "source": [
        "# Input and Output Data"
      ]
    },
    {
      "cell_type": "code",
      "metadata": {
        "id": "iNxyahvGc-NN"
      },
      "source": [
        "x_data = dataset.drop('Diagnose', axis=1)\n",
        "x_data = x_data.drop('ID', axis=1)\n",
        "y_data = dataset['Diagnose']"
      ],
      "execution_count": 56,
      "outputs": []
    },
    {
      "cell_type": "markdown",
      "metadata": {
        "id": "JSQSpyYfj8qk"
      },
      "source": [
        "# Normalization"
      ]
    },
    {
      "cell_type": "code",
      "metadata": {
        "id": "sSRNR-PcdBFp"
      },
      "source": [
        "for i in x_data.columns:\n",
        "  x_data[i] = x_data[i]/(x_data[i].max()-x_data[i].min())"
      ],
      "execution_count": 57,
      "outputs": []
    },
    {
      "cell_type": "code",
      "metadata": {
        "id": "ZmZ0OXyGdD-C",
        "colab": {
          "base_uri": "https://localhost:8080/"
        },
        "outputId": "adc38f80-cd95-4a5c-9bed-56ef1975f32e"
      },
      "source": [
        "for i in range(y_data.shape[0]):\n",
        "    if y_data[i]==2:\n",
        "        y_data.iloc[i]=0\n",
        "    else:\n",
        "        y_data.iloc[i]=1"
      ],
      "execution_count": 58,
      "outputs": [
        {
          "output_type": "stream",
          "name": "stderr",
          "text": [
            "/usr/local/lib/python3.7/dist-packages/pandas/core/indexing.py:670: SettingWithCopyWarning: \n",
            "A value is trying to be set on a copy of a slice from a DataFrame\n",
            "\n",
            "See the caveats in the documentation: https://pandas.pydata.org/pandas-docs/stable/user_guide/indexing.html#returning-a-view-versus-a-copy\n",
            "  iloc._setitem_with_indexer(indexer, value)\n"
          ]
        }
      ]
    },
    {
      "cell_type": "markdown",
      "metadata": {
        "id": "DZM4k4ySj_l-"
      },
      "source": [
        "# Splitting the dataset into Train, Test and Cross Validation"
      ]
    },
    {
      "cell_type": "code",
      "metadata": {
        "id": "4nGR6h9KdSbX"
      },
      "source": [
        "x_train, x_test, y_train, y_test = train_test_split(x_data, y_data, test_size=0.2, random_state=42, shuffle=True)"
      ],
      "execution_count": 59,
      "outputs": []
    },
    {
      "cell_type": "code",
      "metadata": {
        "id": "XWTWRnOfgBDu"
      },
      "source": [
        "x_train, x_cv, y_train, y_cv = train_test_split(x_train, y_train, test_size=0.2, random_state=42, shuffle=True)"
      ],
      "execution_count": 60,
      "outputs": []
    },
    {
      "cell_type": "markdown",
      "metadata": {
        "id": "67qq9eABkHSt"
      },
      "source": [
        "# Initializing the weights and bias values"
      ]
    },
    {
      "cell_type": "code",
      "metadata": {
        "id": "xCLNh498gQZ8"
      },
      "source": [
        "def weight_bias(w,b):\n",
        "  w = np.zeros((X_train.shape[1]))\n",
        "  b = 0\n",
        "  return w,b\n"
      ],
      "execution_count": 104,
      "outputs": []
    },
    {
      "cell_type": "markdown",
      "metadata": {
        "id": "inFX1OMDkMxm"
      },
      "source": [
        "# Initializing the sigmoid function"
      ]
    },
    {
      "cell_type": "code",
      "metadata": {
        "id": "8ESFEr4-hBgu"
      },
      "source": [
        "def sigmoid(z):\n",
        "    sigmoid_func = 1/(1 + np.exp(-z))\n",
        "    return sigmoid_func"
      ],
      "execution_count": 105,
      "outputs": []
    },
    {
      "cell_type": "markdown",
      "metadata": {
        "id": "GvW4_h_jkRS6"
      },
      "source": [
        "# Stochastic Gradient Descent"
      ]
    },
    {
      "cell_type": "code",
      "metadata": {
        "id": "yxorD6zLdUtB"
      },
      "source": [
        "def sgd(epochs, X_train, y_train, w, b, learning_rate):\n",
        "  for i in range(epochs):\n",
        "    ind = np.random.choice(X_train.index, size=1)\n",
        "    ind = int(ind)\n",
        "    X_tr = np.array(X_train[X_train.index==ind])\n",
        "    y_tr = y_train[ind].copy()\n",
        "    z = (np.dot(X_tr, w.T) + b)\n",
        "    sigmoid_func = sigmoid(z)\n",
        "    derivative_weight = 2*X_tr*(sigmoid_func-y_tr)\n",
        "    derivative_bias = 2*(sigmoid_func-y_tr)\n",
        "\n",
        "    w = w - derivative_weight*learning_rate\n",
        "    b = b - derivative_bias*learning_rate\n",
        "\n",
        "  return w,b"
      ],
      "execution_count": 106,
      "outputs": []
    },
    {
      "cell_type": "markdown",
      "metadata": {
        "id": "Kc8W0BmdkXrh"
      },
      "source": [
        "# Predictions"
      ]
    },
    {
      "cell_type": "code",
      "metadata": {
        "id": "FtsxdiM6dZwW"
      },
      "source": [
        "def prediction(X,w,b):\n",
        "  y_pred=[]\n",
        "  for i in range(X.shape[0]):\n",
        "    X_t = np.array(X.iloc[i,:])\n",
        "    fx = 1/(1+np.exp(-(np.dot(X_t, w.T) + b)))\n",
        "    if fx>=0.5:\n",
        "      y_p = 1\n",
        "    else:\n",
        "      y_p = 0\n",
        "    y_pred.append(y_p)\n",
        "  return y_pred"
      ],
      "execution_count": 107,
      "outputs": []
    },
    {
      "cell_type": "code",
      "metadata": {
        "colab": {
          "base_uri": "https://localhost:8080/"
        },
        "id": "KBHZj3MYddr_",
        "outputId": "e382ec63-a0a9-434a-fc0b-76f6dace7e4a"
      },
      "source": [
        "w_sgd_rand,b_sgd_rand = sgd(1000, x_train, y_train, w, b, 0.1)\n",
        "print(w_sgd_rand,b_sgd_rand)"
      ],
      "execution_count": 108,
      "outputs": [
        {
          "output_type": "stream",
          "name": "stdout",
          "text": [
            "[[1.39373517 1.99734077 2.00449946 1.27176152 0.45001978 2.63401312\n",
            "  1.4371756  1.48351412 0.1605643 ]] [[-5.52257865]]\n"
          ]
        }
      ]
    },
    {
      "cell_type": "code",
      "metadata": {
        "id": "EAY6JsV4gZh0"
      },
      "source": [
        "y_pred_sgd_rand = prediction(x_cv, w_sgd_rand, b_sgd_rand)"
      ],
      "execution_count": 109,
      "outputs": []
    },
    {
      "cell_type": "markdown",
      "metadata": {
        "id": "cSur0hnkl9aJ"
      },
      "source": [
        "# Cross Validation"
      ]
    },
    {
      "cell_type": "code",
      "metadata": {
        "colab": {
          "base_uri": "https://localhost:8080/"
        },
        "id": "5bU2LptbiLDk",
        "outputId": "ddefa45f-51f4-4335-b78a-7be50ea7ddbf"
      },
      "source": [
        "best_rec_sgd=0\n",
        "w = np.zeros((x_train.shape[1]))\n",
        "b = 0\n",
        "\n",
        "for learning_rate in [0.001,0.1,1,10]:\n",
        "    for epochs in [100,500,1000]:\n",
        "      wcv_sgd, bcv_sgd = sgd(epochs, x_train, y_train, w, b, learning_rate)\n",
        "      ypred_sgd_test_cv = prediction(x_cv, wcv_sgd, bcv_sgd)\n",
        "      rec_score = recall_score(y_cv, ypred_sgd_test_cv)\n",
        "      print('learning rate: ',learning_rate,'\\n epochs: ',epochs,'\\n recall: ',rec_score)\n",
        "      if rec_score>best_rec_sgd:\n",
        "        best_rec_sgd=rec_score\n",
        "        best_rec_combination_sgd=(learning_rate, epochs)"
      ],
      "execution_count": 79,
      "outputs": [
        {
          "output_type": "stream",
          "name": "stdout",
          "text": [
            "learning rate:  0.001 \n",
            " epochs:  100 \n",
            " recall:  0.95\n",
            "learning rate:  0.001 \n",
            " epochs:  500 \n",
            " recall:  0.975\n",
            "learning rate:  0.001 \n",
            " epochs:  1000 \n",
            " recall:  0.95\n",
            "learning rate:  0.1 \n",
            " epochs:  100 \n",
            " recall:  0.95\n",
            "learning rate:  0.1 \n",
            " epochs:  500 \n",
            " recall:  0.95\n",
            "learning rate:  0.1 \n",
            " epochs:  1000 \n",
            " recall:  0.9\n",
            "learning rate:  1 \n",
            " epochs:  100 \n",
            " recall:  0.925\n",
            "learning rate:  1 \n",
            " epochs:  500 \n",
            " recall:  0.95\n",
            "learning rate:  1 \n",
            " epochs:  1000 \n",
            " recall:  0.975\n",
            "learning rate:  10 \n",
            " epochs:  100 \n",
            " recall:  1.0\n",
            "learning rate:  10 \n",
            " epochs:  500 \n",
            " recall:  0.825\n",
            "learning rate:  10 \n",
            " epochs:  1000 \n",
            " recall:  0.9\n"
          ]
        }
      ]
    },
    {
      "cell_type": "code",
      "metadata": {
        "id": "ybY8NF7sna3I"
      },
      "source": [
        " learning_rate = best_rec_combination_sgd[0]\n",
        "epochs = best_rec_combination_sgd[1]"
      ],
      "execution_count": 111,
      "outputs": []
    },
    {
      "cell_type": "code",
      "metadata": {
        "id": "20Ukb-5foGdB"
      },
      "source": [
        "w_sgd, b_sgd = sgd(epochs, x_train, y_train, w, b, learning_rate)"
      ],
      "execution_count": 110,
      "outputs": []
    },
    {
      "cell_type": "markdown",
      "metadata": {
        "id": "1_GhVckbvB55"
      },
      "source": [
        "# Evaluation of precision,accuracy and recall on cross validation data"
      ]
    },
    {
      "cell_type": "code",
      "metadata": {
        "id": "m8TuPgruoK0y"
      },
      "source": [
        "y_pred_sgd = prediction(x_cv, w_sgd, b_sgd)"
      ],
      "execution_count": 83,
      "outputs": []
    },
    {
      "cell_type": "code",
      "metadata": {
        "id": "SHq6lSCcoPXE"
      },
      "source": [
        "rec_cv_sgd = recall_score(y_cv, y_pred_sgd)\n",
        "prec_cv_sgd = precision_score(y_cv, y_pred_sgd)\n",
        "acc_cv_sgd = accuracy_score(y_cv, y_pred_sgd)"
      ],
      "execution_count": 84,
      "outputs": []
    },
    {
      "cell_type": "code",
      "metadata": {
        "colab": {
          "base_uri": "https://localhost:8080/"
        },
        "id": "rHQppbNcoR7n",
        "outputId": "314deec8-b62e-420e-f2e3-d25ed6dc4ad2"
      },
      "source": [
        "print(rec_cv_sgd, prec_cv_sgd, acc_cv_sgd)\n",
        "\n",
        "sgd_cv = [rec_cv_sgd, prec_cv_sgd, acc_cv_sgd]"
      ],
      "execution_count": 85,
      "outputs": [
        {
          "output_type": "stream",
          "name": "stdout",
          "text": [
            "0.825 0.9705882352941176 0.9285714285714286\n"
          ]
        }
      ]
    },
    {
      "cell_type": "markdown",
      "metadata": {
        "id": "teDfALrQu084"
      },
      "source": [
        "# Evaluating precision,accuracy and recall on testing data"
      ]
    },
    {
      "cell_type": "code",
      "metadata": {
        "id": "vrC742qnsSW5"
      },
      "source": [
        "y_pred_test_sgd = prediction(x_test, w_sgd, b_sgd)"
      ],
      "execution_count": 86,
      "outputs": []
    },
    {
      "cell_type": "code",
      "metadata": {
        "id": "dBeFqHiVsThH"
      },
      "source": [
        "rec_test_sgd = recall_score(y_test, y_pred_test_sgd)\n",
        "prec_test_sgd = precision_score(y_test, y_pred_test_sgd)\n",
        "acc_test_sgd = accuracy_score(y_test, y_pred_test_sgd)"
      ],
      "execution_count": 87,
      "outputs": []
    },
    {
      "cell_type": "code",
      "metadata": {
        "colab": {
          "base_uri": "https://localhost:8080/"
        },
        "id": "-iocmQjouwx1",
        "outputId": "2ee802ad-98bd-40b8-d8d8-a453d2ae8c51"
      },
      "source": [
        "print(rec_test_sgd, prec_test_sgd, acc_test_sgd)\n",
        "sgd_test = [rec_test_sgd, prec_test_sgd, acc_test_sgd]"
      ],
      "execution_count": 88,
      "outputs": [
        {
          "output_type": "stream",
          "name": "stdout",
          "text": [
            "0.7555555555555555 0.9714285714285714 0.9142857142857143\n"
          ]
        }
      ]
    },
    {
      "cell_type": "markdown",
      "metadata": {
        "id": "mRefaWJ-1sW6"
      },
      "source": [
        "# Mini Batch Gradient Descent"
      ]
    },
    {
      "cell_type": "code",
      "metadata": {
        "id": "-rjzgp49wq2e"
      },
      "source": [
        "def get_batches(X,y,batch_size,i):\n",
        "    X_new = X.iloc[i:i+batch_size,:]\n",
        "    y_new = y[i:i+batch_size]    \n",
        "    return X_new, y_new\n",
        "\n",
        "\n",
        "# Mini-Batch Gradient Descent\n",
        "\n",
        "def MiniBatchGradientDescent(X,y,w,b,learning_rate,batch_size):\n",
        "  b = np.zeros(batch_size)\n",
        "  num_batches = int(x_train.shape[0]/batch_size)    \n",
        "  for i in range(0,num_batches):\n",
        "    X_batch, y_batch = get_batches(x_train,y_train,batch_size,i)\n",
        "    z = (np.dot(X_batch, w.T) + b)\n",
        "    sigmoid_func = sigmoid(z)\n",
        "    loss = sigmoid_func - y_batch\n",
        "    derivative_weight = 2*(np.dot(X_batch.T,loss))/batch_size\n",
        "    derivative_bias = 2*loss/batch_size\n",
        "\n",
        "    w = w - learning_rate * derivative_weight\n",
        "    b = b - learning_rate * derivative_bias\n",
        "    b = (b.mean())*np.ones(batch_size)\n",
        "  b = b.mean()\n",
        "  return w,b\n",
        "\n"
      ],
      "execution_count": 89,
      "outputs": []
    },
    {
      "cell_type": "markdown",
      "metadata": {
        "id": "UIdpHASD14Wu"
      },
      "source": [
        "# Cross Validation"
      ]
    },
    {
      "cell_type": "code",
      "metadata": {
        "colab": {
          "base_uri": "https://localhost:8080/"
        },
        "id": "xuu3scEWwsFh",
        "outputId": "75c61e4b-9905-4f7b-d014-5f4011d37e46"
      },
      "source": [
        "best_rec_mini=0\n",
        "b_m = np.zeros(13)\n",
        "w_m = np.zeros(x_train.shape[1])\n",
        "\n",
        "for learning_rate in [0.0001,0.001,0.01,0.1,1,10,20,30]:\n",
        "    for batch_size in [5,10,15,20,25,30]:\n",
        "      wcv_mini, bcv_mini = MiniBatchGradientDescent(x_train, y_train, w, b, learning_rate, batch_size)\n",
        "      ypred_mini_test_cv = prediction(x_cv, wcv_mini, bcv_mini)\n",
        "      rec_score = recall_score(y_cv, ypred_mini_test_cv)\n",
        "      print('learning rate: ',learning_rate,'\\n batch size: ',batch_size,'\\n recall: ',rec_score)\n",
        "      if rec_score>best_rec_mini:\n",
        "        best_rec_mini=rec_score\n",
        "        best_rec_combination_mini=(learning_rate, batch_size)"
      ],
      "execution_count": 90,
      "outputs": [
        {
          "output_type": "stream",
          "name": "stdout",
          "text": [
            "learning rate:  0.0001 \n",
            " batch size:  5 \n",
            " recall:  0.975\n",
            "learning rate:  0.0001 \n",
            " batch size:  10 \n",
            " recall:  1.0\n",
            "learning rate:  0.0001 \n",
            " batch size:  15 \n",
            " recall:  1.0\n",
            "learning rate:  0.0001 \n",
            " batch size:  20 \n",
            " recall:  1.0\n",
            "learning rate:  0.0001 \n",
            " batch size:  25 \n",
            " recall:  1.0\n",
            "learning rate:  0.0001 \n",
            " batch size:  30 \n",
            " recall:  1.0\n",
            "learning rate:  0.001 \n",
            " batch size:  5 \n",
            " recall:  0.975\n",
            "learning rate:  0.001 \n",
            " batch size:  10 \n",
            " recall:  1.0\n",
            "learning rate:  0.001 \n",
            " batch size:  15 \n",
            " recall:  1.0\n",
            "learning rate:  0.001 \n",
            " batch size:  20 \n",
            " recall:  1.0\n",
            "learning rate:  0.001 \n",
            " batch size:  25 \n",
            " recall:  1.0\n",
            "learning rate:  0.001 \n",
            " batch size:  30 \n",
            " recall:  1.0\n",
            "learning rate:  0.01 \n",
            " batch size:  5 \n",
            " recall:  0.95\n",
            "learning rate:  0.01 \n",
            " batch size:  10 \n",
            " recall:  1.0\n",
            "learning rate:  0.01 \n",
            " batch size:  15 \n",
            " recall:  1.0\n",
            "learning rate:  0.01 \n",
            " batch size:  20 \n",
            " recall:  1.0\n",
            "learning rate:  0.01 \n",
            " batch size:  25 \n",
            " recall:  1.0\n",
            "learning rate:  0.01 \n",
            " batch size:  30 \n",
            " recall:  1.0\n",
            "learning rate:  0.1 \n",
            " batch size:  5 \n",
            " recall:  0.85\n",
            "learning rate:  0.1 \n",
            " batch size:  10 \n",
            " recall:  0.65\n",
            "learning rate:  0.1 \n",
            " batch size:  15 \n",
            " recall:  0.975\n",
            "learning rate:  0.1 \n",
            " batch size:  20 \n",
            " recall:  1.0\n",
            "learning rate:  0.1 \n",
            " batch size:  25 \n",
            " recall:  1.0\n",
            "learning rate:  0.1 \n",
            " batch size:  30 \n",
            " recall:  1.0\n",
            "learning rate:  1 \n",
            " batch size:  5 \n",
            " recall:  0.925\n",
            "learning rate:  1 \n",
            " batch size:  10 \n",
            " recall:  0.625\n",
            "learning rate:  1 \n",
            " batch size:  15 \n",
            " recall:  0.725\n",
            "learning rate:  1 \n",
            " batch size:  20 \n",
            " recall:  0.725\n",
            "learning rate:  1 \n",
            " batch size:  25 \n",
            " recall:  0.725\n",
            "learning rate:  1 \n",
            " batch size:  30 \n",
            " recall:  0.725\n",
            "learning rate:  10 \n",
            " batch size:  5 \n",
            " recall:  0.975\n",
            "learning rate:  10 \n",
            " batch size:  10 \n",
            " recall:  0.9\n",
            "learning rate:  10 \n",
            " batch size:  15 \n",
            " recall:  1.0\n",
            "learning rate:  10 \n",
            " batch size:  20 \n",
            " recall:  0.725\n",
            "learning rate:  10 \n",
            " batch size:  25 \n",
            " recall:  0.725\n",
            "learning rate:  10 \n",
            " batch size:  30 \n",
            " recall:  0.55\n",
            "learning rate:  20 \n",
            " batch size:  5 \n",
            " recall:  0.975\n",
            "learning rate:  20 \n",
            " batch size:  10 \n",
            " recall:  0.975\n",
            "learning rate:  20 \n",
            " batch size:  15 \n",
            " recall:  1.0\n",
            "learning rate:  20 \n",
            " batch size:  20 \n",
            " recall:  0.675\n",
            "learning rate:  20 \n",
            " batch size:  25 \n",
            " recall:  0.625\n",
            "learning rate:  20 \n",
            " batch size:  30 \n",
            " recall:  0.75\n",
            "learning rate:  30 \n",
            " batch size:  5 \n",
            " recall:  0.975\n",
            "learning rate:  30 \n",
            " batch size:  10 \n",
            " recall:  0.975\n",
            "learning rate:  30 \n",
            " batch size:  15 \n",
            " recall:  1.0\n",
            "learning rate:  30 \n",
            " batch size:  20 \n",
            " recall:  0.6\n",
            "learning rate:  30 \n",
            " batch size:  25 \n",
            " recall:  0.575\n",
            "learning rate:  30 \n",
            " batch size:  30 \n",
            " recall:  0.75\n"
          ]
        }
      ]
    },
    {
      "cell_type": "code",
      "metadata": {
        "colab": {
          "base_uri": "https://localhost:8080/"
        },
        "id": "wW5TpmO8xIqA",
        "outputId": "535ce553-4c9f-442e-af69-3219325a5fcf"
      },
      "source": [
        "learning_rate = best_rec_combination_mini[0]\n",
        "batch_size = best_rec_combination_mini[1]\n",
        "print(learning_rate, batch_size)"
      ],
      "execution_count": 91,
      "outputs": [
        {
          "output_type": "stream",
          "name": "stdout",
          "text": [
            "0.0001 10\n"
          ]
        }
      ]
    },
    {
      "cell_type": "markdown",
      "metadata": {
        "id": "T-uEzmiA1-bn"
      },
      "source": [
        "# Evaluating precision,accuracy and recall on Cross Validation Data"
      ]
    },
    {
      "cell_type": "code",
      "metadata": {
        "id": "oiizDNluxSlo"
      },
      "source": [
        "w_mini, b_mini = MiniBatchGradientDescent(x_train, y_train, w_m, b_m, learning_rate, batch_size)"
      ],
      "execution_count": 92,
      "outputs": []
    },
    {
      "cell_type": "code",
      "metadata": {
        "id": "iq_Z7O3ZxNKW"
      },
      "source": [
        "y_pred_mini = prediction(x_cv, w_mini, b_mini)"
      ],
      "execution_count": 93,
      "outputs": []
    },
    {
      "cell_type": "code",
      "metadata": {
        "id": "X2hnREVaxWTl"
      },
      "source": [
        "rec_cv_mini = recall_score(y_cv, y_pred_mini)\n",
        "prec_cv_mini = precision_score(y_cv, y_pred_mini)\n",
        "acc_cv_mini = accuracy_score(y_cv, y_pred_mini)"
      ],
      "execution_count": 94,
      "outputs": []
    },
    {
      "cell_type": "code",
      "metadata": {
        "colab": {
          "base_uri": "https://localhost:8080/"
        },
        "id": "XPi3Ro4XxZc8",
        "outputId": "52f22a39-4fc3-4d32-d4fc-4dbed01a8252"
      },
      "source": [
        "print(rec_cv_mini, prec_cv_mini, acc_cv_mini)\n",
        "mini_cv = [rec_cv_mini, prec_cv_mini, acc_cv_mini]"
      ],
      "execution_count": 95,
      "outputs": [
        {
          "output_type": "stream",
          "name": "stdout",
          "text": [
            "1.0 0.6896551724137931 0.8392857142857143\n"
          ]
        }
      ]
    },
    {
      "cell_type": "markdown",
      "metadata": {
        "id": "Vyqo9Mr02jp5"
      },
      "source": [
        "\n",
        "Evaluating precision,accuracy and recall on Testing Data"
      ]
    },
    {
      "cell_type": "code",
      "metadata": {
        "id": "K8_Pdp2n1qCz"
      },
      "source": [
        "y_pred_test_mini = prediction(x_test, w_mini, b_mini)"
      ],
      "execution_count": 96,
      "outputs": []
    },
    {
      "cell_type": "code",
      "metadata": {
        "id": "qNrnKIFA2Xye"
      },
      "source": [
        "rec_test_mini = recall_score(y_test, y_pred_test_mini)\n",
        "prec_test_mini = precision_score(y_test, y_pred_test_mini)\n",
        "acc_test_mini = accuracy_score(y_test, y_pred_test_mini)"
      ],
      "execution_count": 97,
      "outputs": []
    },
    {
      "cell_type": "code",
      "metadata": {
        "colab": {
          "base_uri": "https://localhost:8080/"
        },
        "id": "cZ0AU-OA2c2D",
        "outputId": "ee108067-a5d7-4a36-ac78-d49a716f0391"
      },
      "source": [
        "print(rec_test_mini, prec_test_mini, acc_test_mini)\n",
        "mini_test = [rec_test_mini, prec_test_mini, acc_test_mini]"
      ],
      "execution_count": 98,
      "outputs": [
        {
          "output_type": "stream",
          "name": "stdout",
          "text": [
            "1.0 0.6081081081081081 0.7928571428571428\n"
          ]
        }
      ]
    },
    {
      "cell_type": "markdown",
      "metadata": {
        "id": "h-Lse5S64fuZ"
      },
      "source": [
        "# Tabular Representation of precision,accuracy and recall for SGD"
      ]
    },
    {
      "cell_type": "code",
      "metadata": {
        "colab": {
          "base_uri": "https://localhost:8080/",
          "height": 112
        },
        "id": "4s0AgRaf4QLg",
        "outputId": "41825f90-d960-4078-9c69-8b293e349abd"
      },
      "source": [
        "sgd_output = pd.DataFrame(data = [[round(sgd_cv[i],2) for i in range(0,3)], [round(sgd_test[i],2) for i in range(0,3)]],\n",
        "                          columns = ['Recall','Precision','Accuracy'],\n",
        "                          index = ['Evaluation on cross validation data','Evaluated on testing data'])\n",
        "sgd_output"
      ],
      "execution_count": 115,
      "outputs": [
        {
          "output_type": "execute_result",
          "data": {
            "text/html": [
              "<div>\n",
              "<style scoped>\n",
              "    .dataframe tbody tr th:only-of-type {\n",
              "        vertical-align: middle;\n",
              "    }\n",
              "\n",
              "    .dataframe tbody tr th {\n",
              "        vertical-align: top;\n",
              "    }\n",
              "\n",
              "    .dataframe thead th {\n",
              "        text-align: right;\n",
              "    }\n",
              "</style>\n",
              "<table border=\"1\" class=\"dataframe\">\n",
              "  <thead>\n",
              "    <tr style=\"text-align: right;\">\n",
              "      <th></th>\n",
              "      <th>Recall</th>\n",
              "      <th>Precision</th>\n",
              "      <th>Accuracy</th>\n",
              "    </tr>\n",
              "  </thead>\n",
              "  <tbody>\n",
              "    <tr>\n",
              "      <th>Evaluation on cross validation data</th>\n",
              "      <td>0.82</td>\n",
              "      <td>0.97</td>\n",
              "      <td>0.93</td>\n",
              "    </tr>\n",
              "    <tr>\n",
              "      <th>Evaluated on testing data</th>\n",
              "      <td>0.76</td>\n",
              "      <td>0.97</td>\n",
              "      <td>0.91</td>\n",
              "    </tr>\n",
              "  </tbody>\n",
              "</table>\n",
              "</div>"
            ],
            "text/plain": [
              "                                     Recall  Precision  Accuracy\n",
              "Evaluation on cross validation data    0.82       0.97      0.93\n",
              "Evaluated on testing data              0.76       0.97      0.91"
            ]
          },
          "metadata": {},
          "execution_count": 115
        }
      ]
    },
    {
      "cell_type": "markdown",
      "metadata": {
        "id": "pEJwXO4h4nCr"
      },
      "source": [
        "\n",
        "# Tabular Representation of precision,accuracy and recall for Mini batch SGD"
      ]
    },
    {
      "cell_type": "code",
      "metadata": {
        "colab": {
          "base_uri": "https://localhost:8080/",
          "height": 112
        },
        "id": "N_8nxV__4rh1",
        "outputId": "0fa78854-e76c-43cc-e4c6-25e85392aec4"
      },
      "source": [
        "mini_output = pd.DataFrame(data = [[round(mini_cv[i],2) for i in range(0,3)], [round(mini_test[i],2) for i in range(0,3)]],\n",
        "                          columns = ['Recall','Precision','Accuracy'],\n",
        "                          index = ['Evaluation on cross validation data','Evaluation on testing data'])\n",
        "mini_output"
      ],
      "execution_count": 114,
      "outputs": [
        {
          "output_type": "execute_result",
          "data": {
            "text/html": [
              "<div>\n",
              "<style scoped>\n",
              "    .dataframe tbody tr th:only-of-type {\n",
              "        vertical-align: middle;\n",
              "    }\n",
              "\n",
              "    .dataframe tbody tr th {\n",
              "        vertical-align: top;\n",
              "    }\n",
              "\n",
              "    .dataframe thead th {\n",
              "        text-align: right;\n",
              "    }\n",
              "</style>\n",
              "<table border=\"1\" class=\"dataframe\">\n",
              "  <thead>\n",
              "    <tr style=\"text-align: right;\">\n",
              "      <th></th>\n",
              "      <th>Recall</th>\n",
              "      <th>Precision</th>\n",
              "      <th>Accuracy</th>\n",
              "    </tr>\n",
              "  </thead>\n",
              "  <tbody>\n",
              "    <tr>\n",
              "      <th>Evaluation on cross validation data</th>\n",
              "      <td>1.0</td>\n",
              "      <td>0.69</td>\n",
              "      <td>0.84</td>\n",
              "    </tr>\n",
              "    <tr>\n",
              "      <th>Evaluation on testing data</th>\n",
              "      <td>1.0</td>\n",
              "      <td>0.61</td>\n",
              "      <td>0.79</td>\n",
              "    </tr>\n",
              "  </tbody>\n",
              "</table>\n",
              "</div>"
            ],
            "text/plain": [
              "                                     Recall  Precision  Accuracy\n",
              "Evaluation on cross validation data     1.0       0.69      0.84\n",
              "Evaluation on testing data              1.0       0.61      0.79"
            ]
          },
          "metadata": {},
          "execution_count": 114
        }
      ]
    }
  ]
}